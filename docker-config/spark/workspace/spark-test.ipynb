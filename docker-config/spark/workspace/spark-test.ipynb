{
 "cells": [
  {
   "cell_type": "code",
   "execution_count": 1,
   "metadata": {},
   "outputs": [],
   "source": [
    "from pyspark import SparkConf\n",
    "from pyspark.sql import SparkSession\n",
    "from delta.tables import *\n",
    "from pyspark.sql.functions import *\n",
    "from pyspark.sql.functions import sum as _sum"
   ]
  },
  {
   "cell_type": "code",
   "execution_count": 2,
   "metadata": {},
   "outputs": [
    {
     "name": "stderr",
     "output_type": "stream",
     "text": [
      "23/04/18 23:04:36 WARN Utils: Your hostname, ducdn-G3-3579 resolves to a loopback address: 127.0.1.1; using 192.168.2.106 instead (on interface wlo1)\n",
      "23/04/18 23:04:36 WARN Utils: Set SPARK_LOCAL_IP if you need to bind to another address\n"
     ]
    },
    {
     "name": "stdout",
     "output_type": "stream",
     "text": [
      ":: loading settings :: url = jar:file:/home/ducdn/Documents/spark/jars/ivy-2.4.0.jar!/org/apache/ivy/core/settings/ivysettings.xml\n"
     ]
    },
    {
     "name": "stderr",
     "output_type": "stream",
     "text": [
      "Ivy Default Cache set to: /home/ducdn/.ivy2/cache\n",
      "The jars for the packages stored in: /home/ducdn/.ivy2/jars\n",
      "io.delta#delta-core_2.12 added as a dependency\n",
      "org.apache.hadoop#hadoop-aws added as a dependency\n",
      "com.amazonaws#aws-java-sdk added as a dependency\n",
      "com.amazonaws#aws-java-sdk-bundle added as a dependency\n",
      "software.amazon.awssdk#url-connection-client added as a dependency\n",
      ":: resolving dependencies :: org.apache.spark#spark-submit-parent-75e39b92-49ad-413f-bd2b-7743896b445e;1.0\n",
      "\tconfs: [default]\n",
      "\tfound io.delta#delta-core_2.12;1.0.0 in central\n",
      "\tfound org.antlr#antlr4;4.7 in central\n",
      "\tfound org.antlr#antlr4-runtime;4.7 in central\n",
      "\tfound org.antlr#antlr-runtime;3.5.2 in central\n",
      "\tfound org.antlr#ST4;4.0.8 in central\n",
      "\tfound org.abego.treelayout#org.abego.treelayout.core;1.0.3 in central\n",
      "\tfound org.glassfish#javax.json;1.0.4 in central\n",
      "\tfound com.ibm.icu#icu4j;58.2 in central\n",
      "\tfound org.apache.hadoop#hadoop-aws;3.1.1 in central\n",
      "\tfound com.amazonaws#aws-java-sdk-bundle;1.11.271 in central\n",
      "\tfound io.netty#netty-codec-http;4.1.17.Final in central\n",
      "\tfound io.netty#netty-codec;4.1.17.Final in central\n",
      "\tfound io.netty#netty-transport;4.1.17.Final in central\n",
      "\tfound io.netty#netty-buffer;4.1.17.Final in central\n",
      "\tfound io.netty#netty-common;4.1.17.Final in central\n",
      "\tfound io.netty#netty-resolver;4.1.17.Final in central\n",
      "\tfound io.netty#netty-handler;4.1.17.Final in central\n",
      "\tfound com.amazonaws#aws-java-sdk;1.11.271 in central\n",
      "\tfound com.amazonaws#aws-java-sdk-transcribe;1.11.271 in central\n",
      "\tfound com.amazonaws#aws-java-sdk-core;1.11.271 in central\n",
      "\tfound commons-logging#commons-logging;1.1.3 in central\n",
      "\tfound org.apache.httpcomponents#httpclient;4.5.2 in central\n",
      "\tfound org.apache.httpcomponents#httpcore;4.4.4 in central\n",
      "\tfound commons-codec#commons-codec;1.9 in central\n",
      "\tfound software.amazon.ion#ion-java;1.0.2 in central\n",
      "\tfound com.fasterxml.jackson.core#jackson-databind;2.6.7.1 in central\n",
      "\tfound com.fasterxml.jackson.core#jackson-annotations;2.6.0 in central\n",
      "\tfound com.fasterxml.jackson.core#jackson-core;2.6.7 in central\n",
      "\tfound com.fasterxml.jackson.dataformat#jackson-dataformat-cbor;2.6.7 in central\n",
      "\tfound joda-time#joda-time;2.8.1 in central\n",
      "\tfound com.amazonaws#jmespath-java;1.11.271 in central\n",
      "\tfound com.amazonaws#aws-java-sdk-autoscalingplans;1.11.271 in central\n",
      "\tfound com.amazonaws#aws-java-sdk-workmail;1.11.271 in central\n",
      "\tfound com.amazonaws#aws-java-sdk-servicediscovery;1.11.271 in central\n",
      "\tfound com.amazonaws#aws-java-sdk-cloud9;1.11.271 in central\n",
      "\tfound com.amazonaws#aws-java-sdk-serverlessapplicationrepository;1.11.271 in central\n",
      "\tfound com.amazonaws#aws-java-sdk-alexaforbusiness;1.11.271 in central\n",
      "\tfound com.amazonaws#aws-java-sdk-resourcegroups;1.11.271 in central\n",
      "\tfound com.amazonaws#aws-java-sdk-comprehend;1.11.271 in central\n",
      "\tfound com.amazonaws#aws-java-sdk-translate;1.11.271 in central\n",
      "\tfound com.amazonaws#aws-java-sdk-sagemaker;1.11.271 in central\n",
      "\tfound com.amazonaws#aws-java-sdk-iotjobsdataplane;1.11.271 in central\n",
      "\tfound com.amazonaws#aws-java-sdk-sagemakerruntime;1.11.271 in central\n",
      "\tfound com.amazonaws#aws-java-sdk-kinesisvideo;1.11.271 in central\n",
      "\tfound com.amazonaws#aws-java-sdk-appsync;1.11.271 in central\n",
      "\tfound com.amazonaws#aws-java-sdk-guardduty;1.11.271 in central\n",
      "\tfound com.amazonaws#aws-java-sdk-mq;1.11.271 in central\n",
      "\tfound com.amazonaws#aws-java-sdk-mediaconvert;1.11.271 in central\n",
      "\tfound com.amazonaws#aws-java-sdk-mediastore;1.11.271 in central\n",
      "\tfound com.amazonaws#aws-java-sdk-mediastoredata;1.11.271 in central\n",
      "\tfound com.amazonaws#aws-java-sdk-medialive;1.11.271 in central\n",
      "\tfound com.amazonaws#aws-java-sdk-mediapackage;1.11.271 in central\n",
      "\tfound com.amazonaws#aws-java-sdk-costexplorer;1.11.271 in central\n",
      "\tfound com.amazonaws#aws-java-sdk-pricing;1.11.271 in central\n",
      "\tfound com.amazonaws#aws-java-sdk-mobile;1.11.271 in central\n",
      "\tfound com.amazonaws#aws-java-sdk-cloudhsmv2;1.11.271 in central\n",
      "\tfound com.amazonaws#aws-java-sdk-glue;1.11.271 in central\n",
      "\tfound com.amazonaws#aws-java-sdk-migrationhub;1.11.271 in central\n",
      "\tfound com.amazonaws#aws-java-sdk-dax;1.11.271 in central\n",
      "\tfound com.amazonaws#aws-java-sdk-greengrass;1.11.271 in central\n",
      "\tfound com.amazonaws#aws-java-sdk-athena;1.11.271 in central\n",
      "\tfound com.amazonaws#aws-java-sdk-marketplaceentitlement;1.11.271 in central\n",
      "\tfound com.amazonaws#aws-java-sdk-codestar;1.11.271 in central\n",
      "\tfound com.amazonaws#aws-java-sdk-lexmodelbuilding;1.11.271 in central\n",
      "\tfound com.amazonaws#aws-java-sdk-resourcegroupstaggingapi;1.11.271 in central\n",
      "\tfound com.amazonaws#aws-java-sdk-pinpoint;1.11.271 in central\n",
      "\tfound com.amazonaws#aws-java-sdk-xray;1.11.271 in central\n",
      "\tfound com.amazonaws#aws-java-sdk-opsworkscm;1.11.271 in central\n",
      "\tfound com.amazonaws#aws-java-sdk-support;1.11.271 in central\n",
      "\tfound com.amazonaws#aws-java-sdk-simpledb;1.11.271 in central\n",
      "\tfound com.amazonaws#aws-java-sdk-servicecatalog;1.11.271 in central\n",
      "\tfound com.amazonaws#aws-java-sdk-servermigration;1.11.271 in central\n",
      "\tfound com.amazonaws#aws-java-sdk-simpleworkflow;1.11.271 in central\n",
      "\tfound com.amazonaws#aws-java-sdk-storagegateway;1.11.271 in central\n",
      "\tfound com.amazonaws#aws-java-sdk-route53;1.11.271 in central\n",
      "\tfound com.amazonaws#aws-java-sdk-s3;1.11.271 in central\n",
      "\tfound com.amazonaws#aws-java-sdk-kms;1.11.271 in central\n",
      "\tfound com.amazonaws#aws-java-sdk-importexport;1.11.271 in central\n",
      "\tfound com.amazonaws#aws-java-sdk-sts;1.11.271 in central\n",
      "\tfound com.amazonaws#aws-java-sdk-sqs;1.11.271 in central\n",
      "\tfound com.amazonaws#aws-java-sdk-rds;1.11.271 in central\n",
      "\tfound com.amazonaws#aws-java-sdk-redshift;1.11.271 in central\n",
      "\tfound com.amazonaws#aws-java-sdk-elasticbeanstalk;1.11.271 in central\n",
      "\tfound com.amazonaws#aws-java-sdk-glacier;1.11.271 in central\n",
      "\tfound com.amazonaws#aws-java-sdk-sns;1.11.271 in central\n",
      "\tfound com.amazonaws#aws-java-sdk-iam;1.11.271 in central\n",
      "\tfound com.amazonaws#aws-java-sdk-datapipeline;1.11.271 in central\n",
      "\tfound com.amazonaws#aws-java-sdk-elasticloadbalancing;1.11.271 in central\n",
      "\tfound com.amazonaws#aws-java-sdk-elasticloadbalancingv2;1.11.271 in central\n",
      "\tfound com.amazonaws#aws-java-sdk-emr;1.11.271 in central\n",
      "\tfound com.amazonaws#aws-java-sdk-elasticache;1.11.271 in central\n",
      "\tfound com.amazonaws#aws-java-sdk-elastictranscoder;1.11.271 in central\n",
      "\tfound com.amazonaws#aws-java-sdk-ec2;1.11.271 in central\n",
      "\tfound com.amazonaws#aws-java-sdk-dynamodb;1.11.271 in central\n",
      "\tfound com.amazonaws#aws-java-sdk-budgets;1.11.271 in central\n",
      "\tfound com.amazonaws#aws-java-sdk-cloudtrail;1.11.271 in central\n",
      "\tfound com.amazonaws#aws-java-sdk-cloudwatch;1.11.271 in central\n",
      "\tfound com.amazonaws#aws-java-sdk-logs;1.11.271 in central\n",
      "\tfound com.amazonaws#aws-java-sdk-events;1.11.271 in central\n",
      "\tfound com.amazonaws#aws-java-sdk-cognitoidentity;1.11.271 in central\n",
      "\tfound com.amazonaws#aws-java-sdk-cognitosync;1.11.271 in central\n",
      "\tfound com.amazonaws#aws-java-sdk-directconnect;1.11.271 in central\n",
      "\tfound com.amazonaws#aws-java-sdk-cloudformation;1.11.271 in central\n",
      "\tfound com.amazonaws#aws-java-sdk-cloudfront;1.11.271 in central\n",
      "\tfound com.amazonaws#aws-java-sdk-clouddirectory;1.11.271 in central\n",
      "\tfound com.amazonaws#aws-java-sdk-kinesis;1.11.271 in central\n",
      "\tfound com.amazonaws#aws-java-sdk-opsworks;1.11.271 in central\n",
      "\tfound com.amazonaws#aws-java-sdk-ses;1.11.271 in central\n",
      "\tfound com.amazonaws#aws-java-sdk-autoscaling;1.11.271 in central\n",
      "\tfound com.amazonaws#aws-java-sdk-cloudsearch;1.11.271 in central\n",
      "\tfound com.amazonaws#aws-java-sdk-cloudwatchmetrics;1.11.271 in central\n",
      "\tfound com.amazonaws#aws-java-sdk-codedeploy;1.11.271 in central\n",
      "\tfound com.amazonaws#aws-java-sdk-codepipeline;1.11.271 in central\n",
      "\tfound com.amazonaws#aws-java-sdk-config;1.11.271 in central\n",
      "\tfound com.amazonaws#aws-java-sdk-lambda;1.11.271 in central\n",
      "\tfound com.amazonaws#aws-java-sdk-ecs;1.11.271 in central\n",
      "\tfound com.amazonaws#aws-java-sdk-ecr;1.11.271 in central\n",
      "\tfound com.amazonaws#aws-java-sdk-cloudhsm;1.11.271 in central\n",
      "\tfound com.amazonaws#aws-java-sdk-ssm;1.11.271 in central\n",
      "\tfound com.amazonaws#aws-java-sdk-workspaces;1.11.271 in central\n",
      "\tfound com.amazonaws#aws-java-sdk-machinelearning;1.11.271 in central\n",
      "\tfound com.amazonaws#aws-java-sdk-directory;1.11.271 in central\n",
      "\tfound com.amazonaws#aws-java-sdk-efs;1.11.271 in central\n",
      "\tfound com.amazonaws#aws-java-sdk-codecommit;1.11.271 in central\n",
      "\tfound com.amazonaws#aws-java-sdk-devicefarm;1.11.271 in central\n",
      "\tfound com.amazonaws#aws-java-sdk-elasticsearch;1.11.271 in central\n",
      "\tfound com.amazonaws#aws-java-sdk-waf;1.11.271 in central\n",
      "\tfound com.amazonaws#aws-java-sdk-marketplacecommerceanalytics;1.11.271 in central\n",
      "\tfound com.amazonaws#aws-java-sdk-inspector;1.11.271 in central\n",
      "\tfound com.amazonaws#aws-java-sdk-iot;1.11.271 in central\n",
      "\tfound com.amazonaws#aws-java-sdk-api-gateway;1.11.271 in central\n",
      "\tfound com.amazonaws#aws-java-sdk-acm;1.11.271 in central\n",
      "\tfound com.amazonaws#aws-java-sdk-gamelift;1.11.271 in central\n",
      "\tfound com.amazonaws#aws-java-sdk-dms;1.11.271 in central\n",
      "\tfound com.amazonaws#aws-java-sdk-marketplacemeteringservice;1.11.271 in central\n",
      "\tfound com.amazonaws#aws-java-sdk-cognitoidp;1.11.271 in central\n",
      "\tfound com.amazonaws#aws-java-sdk-discovery;1.11.271 in central\n",
      "\tfound com.amazonaws#aws-java-sdk-applicationautoscaling;1.11.271 in spark-list\n",
      "\tfound com.amazonaws#aws-java-sdk-snowball;1.11.271 in central\n",
      "\tfound com.amazonaws#aws-java-sdk-rekognition;1.11.271 in central\n",
      "\tfound com.amazonaws#aws-java-sdk-polly;1.11.271 in central\n",
      "\tfound com.amazonaws#aws-java-sdk-lightsail;1.11.271 in central\n",
      "\tfound com.amazonaws#aws-java-sdk-stepfunctions;1.11.271 in central\n",
      "\tfound com.amazonaws#aws-java-sdk-health;1.11.271 in central\n",
      "\tfound com.amazonaws#aws-java-sdk-costandusagereport;1.11.271 in central\n",
      "\tfound com.amazonaws#aws-java-sdk-codebuild;1.11.271 in central\n",
      "\tfound com.amazonaws#aws-java-sdk-appstream;1.11.271 in central\n",
      "\tfound com.amazonaws#aws-java-sdk-shield;1.11.271 in central\n",
      "\tfound com.amazonaws#aws-java-sdk-batch;1.11.271 in central\n",
      "\tfound com.amazonaws#aws-java-sdk-lex;1.11.271 in central\n",
      "\tfound com.amazonaws#aws-java-sdk-mechanicalturkrequester;1.11.271 in central\n",
      "\tfound com.amazonaws#aws-java-sdk-organizations;1.11.271 in central\n",
      "\tfound com.amazonaws#aws-java-sdk-workdocs;1.11.271 in central\n",
      "\tfound com.amazonaws#aws-java-sdk-models;1.11.271 in central\n",
      "\tfound com.amazonaws#aws-java-sdk-swf-libraries;1.11.22 in central\n",
      "\tfound software.amazon.awssdk#url-connection-client;2.15.40 in central\n",
      "\tfound software.amazon.awssdk#utils;2.15.40 in central\n",
      "\tfound org.reactivestreams#reactive-streams;1.0.2 in central\n",
      "\tfound software.amazon.awssdk#annotations;2.15.40 in central\n",
      "\tfound org.slf4j#slf4j-api;1.7.28 in central\n",
      "\tfound software.amazon.awssdk#http-client-spi;2.15.40 in central\n",
      "\tfound software.amazon.awssdk#metrics-spi;2.15.40 in central\n",
      ":: resolution report :: resolve 2364ms :: artifacts dl 29ms\n",
      "\t:: modules in use:\n",
      "\tcom.amazonaws#aws-java-sdk;1.11.271 from central in [default]\n",
      "\tcom.amazonaws#aws-java-sdk-acm;1.11.271 from central in [default]\n",
      "\tcom.amazonaws#aws-java-sdk-alexaforbusiness;1.11.271 from central in [default]\n",
      "\tcom.amazonaws#aws-java-sdk-api-gateway;1.11.271 from central in [default]\n",
      "\tcom.amazonaws#aws-java-sdk-applicationautoscaling;1.11.271 from spark-list in [default]\n",
      "\tcom.amazonaws#aws-java-sdk-appstream;1.11.271 from central in [default]\n",
      "\tcom.amazonaws#aws-java-sdk-appsync;1.11.271 from central in [default]\n",
      "\tcom.amazonaws#aws-java-sdk-athena;1.11.271 from central in [default]\n",
      "\tcom.amazonaws#aws-java-sdk-autoscaling;1.11.271 from central in [default]\n",
      "\tcom.amazonaws#aws-java-sdk-autoscalingplans;1.11.271 from central in [default]\n",
      "\tcom.amazonaws#aws-java-sdk-batch;1.11.271 from central in [default]\n",
      "\tcom.amazonaws#aws-java-sdk-budgets;1.11.271 from central in [default]\n",
      "\tcom.amazonaws#aws-java-sdk-bundle;1.11.271 from central in [default]\n",
      "\tcom.amazonaws#aws-java-sdk-cloud9;1.11.271 from central in [default]\n",
      "\tcom.amazonaws#aws-java-sdk-clouddirectory;1.11.271 from central in [default]\n",
      "\tcom.amazonaws#aws-java-sdk-cloudformation;1.11.271 from central in [default]\n",
      "\tcom.amazonaws#aws-java-sdk-cloudfront;1.11.271 from central in [default]\n",
      "\tcom.amazonaws#aws-java-sdk-cloudhsm;1.11.271 from central in [default]\n",
      "\tcom.amazonaws#aws-java-sdk-cloudhsmv2;1.11.271 from central in [default]\n",
      "\tcom.amazonaws#aws-java-sdk-cloudsearch;1.11.271 from central in [default]\n",
      "\tcom.amazonaws#aws-java-sdk-cloudtrail;1.11.271 from central in [default]\n",
      "\tcom.amazonaws#aws-java-sdk-cloudwatch;1.11.271 from central in [default]\n",
      "\tcom.amazonaws#aws-java-sdk-cloudwatchmetrics;1.11.271 from central in [default]\n",
      "\tcom.amazonaws#aws-java-sdk-codebuild;1.11.271 from central in [default]\n",
      "\tcom.amazonaws#aws-java-sdk-codecommit;1.11.271 from central in [default]\n",
      "\tcom.amazonaws#aws-java-sdk-codedeploy;1.11.271 from central in [default]\n",
      "\tcom.amazonaws#aws-java-sdk-codepipeline;1.11.271 from central in [default]\n",
      "\tcom.amazonaws#aws-java-sdk-codestar;1.11.271 from central in [default]\n",
      "\tcom.amazonaws#aws-java-sdk-cognitoidentity;1.11.271 from central in [default]\n",
      "\tcom.amazonaws#aws-java-sdk-cognitoidp;1.11.271 from central in [default]\n",
      "\tcom.amazonaws#aws-java-sdk-cognitosync;1.11.271 from central in [default]\n",
      "\tcom.amazonaws#aws-java-sdk-comprehend;1.11.271 from central in [default]\n",
      "\tcom.amazonaws#aws-java-sdk-config;1.11.271 from central in [default]\n",
      "\tcom.amazonaws#aws-java-sdk-core;1.11.271 from central in [default]\n",
      "\tcom.amazonaws#aws-java-sdk-costandusagereport;1.11.271 from central in [default]\n",
      "\tcom.amazonaws#aws-java-sdk-costexplorer;1.11.271 from central in [default]\n",
      "\tcom.amazonaws#aws-java-sdk-datapipeline;1.11.271 from central in [default]\n",
      "\tcom.amazonaws#aws-java-sdk-dax;1.11.271 from central in [default]\n",
      "\tcom.amazonaws#aws-java-sdk-devicefarm;1.11.271 from central in [default]\n",
      "\tcom.amazonaws#aws-java-sdk-directconnect;1.11.271 from central in [default]\n",
      "\tcom.amazonaws#aws-java-sdk-directory;1.11.271 from central in [default]\n",
      "\tcom.amazonaws#aws-java-sdk-discovery;1.11.271 from central in [default]\n",
      "\tcom.amazonaws#aws-java-sdk-dms;1.11.271 from central in [default]\n",
      "\tcom.amazonaws#aws-java-sdk-dynamodb;1.11.271 from central in [default]\n",
      "\tcom.amazonaws#aws-java-sdk-ec2;1.11.271 from central in [default]\n",
      "\tcom.amazonaws#aws-java-sdk-ecr;1.11.271 from central in [default]\n",
      "\tcom.amazonaws#aws-java-sdk-ecs;1.11.271 from central in [default]\n",
      "\tcom.amazonaws#aws-java-sdk-efs;1.11.271 from central in [default]\n",
      "\tcom.amazonaws#aws-java-sdk-elasticache;1.11.271 from central in [default]\n",
      "\tcom.amazonaws#aws-java-sdk-elasticbeanstalk;1.11.271 from central in [default]\n",
      "\tcom.amazonaws#aws-java-sdk-elasticloadbalancing;1.11.271 from central in [default]\n",
      "\tcom.amazonaws#aws-java-sdk-elasticloadbalancingv2;1.11.271 from central in [default]\n",
      "\tcom.amazonaws#aws-java-sdk-elasticsearch;1.11.271 from central in [default]\n",
      "\tcom.amazonaws#aws-java-sdk-elastictranscoder;1.11.271 from central in [default]\n",
      "\tcom.amazonaws#aws-java-sdk-emr;1.11.271 from central in [default]\n",
      "\tcom.amazonaws#aws-java-sdk-events;1.11.271 from central in [default]\n",
      "\tcom.amazonaws#aws-java-sdk-gamelift;1.11.271 from central in [default]\n",
      "\tcom.amazonaws#aws-java-sdk-glacier;1.11.271 from central in [default]\n",
      "\tcom.amazonaws#aws-java-sdk-glue;1.11.271 from central in [default]\n",
      "\tcom.amazonaws#aws-java-sdk-greengrass;1.11.271 from central in [default]\n",
      "\tcom.amazonaws#aws-java-sdk-guardduty;1.11.271 from central in [default]\n",
      "\tcom.amazonaws#aws-java-sdk-health;1.11.271 from central in [default]\n",
      "\tcom.amazonaws#aws-java-sdk-iam;1.11.271 from central in [default]\n",
      "\tcom.amazonaws#aws-java-sdk-importexport;1.11.271 from central in [default]\n",
      "\tcom.amazonaws#aws-java-sdk-inspector;1.11.271 from central in [default]\n",
      "\tcom.amazonaws#aws-java-sdk-iot;1.11.271 from central in [default]\n",
      "\tcom.amazonaws#aws-java-sdk-iotjobsdataplane;1.11.271 from central in [default]\n",
      "\tcom.amazonaws#aws-java-sdk-kinesis;1.11.271 from central in [default]\n",
      "\tcom.amazonaws#aws-java-sdk-kinesisvideo;1.11.271 from central in [default]\n",
      "\tcom.amazonaws#aws-java-sdk-kms;1.11.271 from central in [default]\n",
      "\tcom.amazonaws#aws-java-sdk-lambda;1.11.271 from central in [default]\n",
      "\tcom.amazonaws#aws-java-sdk-lex;1.11.271 from central in [default]\n",
      "\tcom.amazonaws#aws-java-sdk-lexmodelbuilding;1.11.271 from central in [default]\n",
      "\tcom.amazonaws#aws-java-sdk-lightsail;1.11.271 from central in [default]\n",
      "\tcom.amazonaws#aws-java-sdk-logs;1.11.271 from central in [default]\n",
      "\tcom.amazonaws#aws-java-sdk-machinelearning;1.11.271 from central in [default]\n",
      "\tcom.amazonaws#aws-java-sdk-marketplacecommerceanalytics;1.11.271 from central in [default]\n",
      "\tcom.amazonaws#aws-java-sdk-marketplaceentitlement;1.11.271 from central in [default]\n",
      "\tcom.amazonaws#aws-java-sdk-marketplacemeteringservice;1.11.271 from central in [default]\n",
      "\tcom.amazonaws#aws-java-sdk-mechanicalturkrequester;1.11.271 from central in [default]\n",
      "\tcom.amazonaws#aws-java-sdk-mediaconvert;1.11.271 from central in [default]\n",
      "\tcom.amazonaws#aws-java-sdk-medialive;1.11.271 from central in [default]\n",
      "\tcom.amazonaws#aws-java-sdk-mediapackage;1.11.271 from central in [default]\n",
      "\tcom.amazonaws#aws-java-sdk-mediastore;1.11.271 from central in [default]\n",
      "\tcom.amazonaws#aws-java-sdk-mediastoredata;1.11.271 from central in [default]\n",
      "\tcom.amazonaws#aws-java-sdk-migrationhub;1.11.271 from central in [default]\n",
      "\tcom.amazonaws#aws-java-sdk-mobile;1.11.271 from central in [default]\n",
      "\tcom.amazonaws#aws-java-sdk-models;1.11.271 from central in [default]\n",
      "\tcom.amazonaws#aws-java-sdk-mq;1.11.271 from central in [default]\n",
      "\tcom.amazonaws#aws-java-sdk-opsworks;1.11.271 from central in [default]\n",
      "\tcom.amazonaws#aws-java-sdk-opsworkscm;1.11.271 from central in [default]\n",
      "\tcom.amazonaws#aws-java-sdk-organizations;1.11.271 from central in [default]\n",
      "\tcom.amazonaws#aws-java-sdk-pinpoint;1.11.271 from central in [default]\n",
      "\tcom.amazonaws#aws-java-sdk-polly;1.11.271 from central in [default]\n",
      "\tcom.amazonaws#aws-java-sdk-pricing;1.11.271 from central in [default]\n",
      "\tcom.amazonaws#aws-java-sdk-rds;1.11.271 from central in [default]\n",
      "\tcom.amazonaws#aws-java-sdk-redshift;1.11.271 from central in [default]\n",
      "\tcom.amazonaws#aws-java-sdk-rekognition;1.11.271 from central in [default]\n",
      "\tcom.amazonaws#aws-java-sdk-resourcegroups;1.11.271 from central in [default]\n",
      "\tcom.amazonaws#aws-java-sdk-resourcegroupstaggingapi;1.11.271 from central in [default]\n",
      "\tcom.amazonaws#aws-java-sdk-route53;1.11.271 from central in [default]\n",
      "\tcom.amazonaws#aws-java-sdk-s3;1.11.271 from central in [default]\n",
      "\tcom.amazonaws#aws-java-sdk-sagemaker;1.11.271 from central in [default]\n",
      "\tcom.amazonaws#aws-java-sdk-sagemakerruntime;1.11.271 from central in [default]\n",
      "\tcom.amazonaws#aws-java-sdk-serverlessapplicationrepository;1.11.271 from central in [default]\n",
      "\tcom.amazonaws#aws-java-sdk-servermigration;1.11.271 from central in [default]\n",
      "\tcom.amazonaws#aws-java-sdk-servicecatalog;1.11.271 from central in [default]\n",
      "\tcom.amazonaws#aws-java-sdk-servicediscovery;1.11.271 from central in [default]\n",
      "\tcom.amazonaws#aws-java-sdk-ses;1.11.271 from central in [default]\n",
      "\tcom.amazonaws#aws-java-sdk-shield;1.11.271 from central in [default]\n",
      "\tcom.amazonaws#aws-java-sdk-simpledb;1.11.271 from central in [default]\n",
      "\tcom.amazonaws#aws-java-sdk-simpleworkflow;1.11.271 from central in [default]\n",
      "\tcom.amazonaws#aws-java-sdk-snowball;1.11.271 from central in [default]\n",
      "\tcom.amazonaws#aws-java-sdk-sns;1.11.271 from central in [default]\n",
      "\tcom.amazonaws#aws-java-sdk-sqs;1.11.271 from central in [default]\n",
      "\tcom.amazonaws#aws-java-sdk-ssm;1.11.271 from central in [default]\n",
      "\tcom.amazonaws#aws-java-sdk-stepfunctions;1.11.271 from central in [default]\n",
      "\tcom.amazonaws#aws-java-sdk-storagegateway;1.11.271 from central in [default]\n",
      "\tcom.amazonaws#aws-java-sdk-sts;1.11.271 from central in [default]\n",
      "\tcom.amazonaws#aws-java-sdk-support;1.11.271 from central in [default]\n",
      "\tcom.amazonaws#aws-java-sdk-swf-libraries;1.11.22 from central in [default]\n",
      "\tcom.amazonaws#aws-java-sdk-transcribe;1.11.271 from central in [default]\n",
      "\tcom.amazonaws#aws-java-sdk-translate;1.11.271 from central in [default]\n",
      "\tcom.amazonaws#aws-java-sdk-waf;1.11.271 from central in [default]\n",
      "\tcom.amazonaws#aws-java-sdk-workdocs;1.11.271 from central in [default]\n",
      "\tcom.amazonaws#aws-java-sdk-workmail;1.11.271 from central in [default]\n",
      "\tcom.amazonaws#aws-java-sdk-workspaces;1.11.271 from central in [default]\n",
      "\tcom.amazonaws#aws-java-sdk-xray;1.11.271 from central in [default]\n",
      "\tcom.amazonaws#jmespath-java;1.11.271 from central in [default]\n",
      "\tcom.fasterxml.jackson.core#jackson-annotations;2.6.0 from central in [default]\n",
      "\tcom.fasterxml.jackson.core#jackson-core;2.6.7 from central in [default]\n",
      "\tcom.fasterxml.jackson.core#jackson-databind;2.6.7.1 from central in [default]\n",
      "\tcom.fasterxml.jackson.dataformat#jackson-dataformat-cbor;2.6.7 from central in [default]\n",
      "\tcom.ibm.icu#icu4j;58.2 from central in [default]\n",
      "\tcommons-codec#commons-codec;1.9 from central in [default]\n",
      "\tcommons-logging#commons-logging;1.1.3 from central in [default]\n",
      "\tio.delta#delta-core_2.12;1.0.0 from central in [default]\n",
      "\tio.netty#netty-buffer;4.1.17.Final from central in [default]\n",
      "\tio.netty#netty-codec;4.1.17.Final from central in [default]\n",
      "\tio.netty#netty-codec-http;4.1.17.Final from central in [default]\n",
      "\tio.netty#netty-common;4.1.17.Final from central in [default]\n",
      "\tio.netty#netty-handler;4.1.17.Final from central in [default]\n",
      "\tio.netty#netty-resolver;4.1.17.Final from central in [default]\n",
      "\tio.netty#netty-transport;4.1.17.Final from central in [default]\n",
      "\tjoda-time#joda-time;2.8.1 from central in [default]\n",
      "\torg.abego.treelayout#org.abego.treelayout.core;1.0.3 from central in [default]\n",
      "\torg.antlr#ST4;4.0.8 from central in [default]\n",
      "\torg.antlr#antlr-runtime;3.5.2 from central in [default]\n",
      "\torg.antlr#antlr4;4.7 from central in [default]\n",
      "\torg.antlr#antlr4-runtime;4.7 from central in [default]\n",
      "\torg.apache.hadoop#hadoop-aws;3.1.1 from central in [default]\n",
      "\torg.apache.httpcomponents#httpclient;4.5.2 from central in [default]\n",
      "\torg.apache.httpcomponents#httpcore;4.4.4 from central in [default]\n",
      "\torg.glassfish#javax.json;1.0.4 from central in [default]\n",
      "\torg.reactivestreams#reactive-streams;1.0.2 from central in [default]\n",
      "\torg.slf4j#slf4j-api;1.7.28 from central in [default]\n",
      "\tsoftware.amazon.awssdk#annotations;2.15.40 from central in [default]\n",
      "\tsoftware.amazon.awssdk#http-client-spi;2.15.40 from central in [default]\n",
      "\tsoftware.amazon.awssdk#metrics-spi;2.15.40 from central in [default]\n",
      "\tsoftware.amazon.awssdk#url-connection-client;2.15.40 from central in [default]\n",
      "\tsoftware.amazon.awssdk#utils;2.15.40 from central in [default]\n",
      "\tsoftware.amazon.ion#ion-java;1.0.2 from central in [default]\n",
      "\t:: evicted modules:\n",
      "\tcommons-logging#commons-logging;1.2 by [commons-logging#commons-logging;1.1.3] in [default]\n",
      "\tcom.amazonaws#aws-java-sdk-simpleworkflow;1.11.22 by [com.amazonaws#aws-java-sdk-simpleworkflow;1.11.271] in [default]\n",
      "\t---------------------------------------------------------------------\n",
      "\t|                  |            modules            ||   artifacts   |\n",
      "\t|       conf       | number| search|dwnlded|evicted|| number|dwnlded|\n",
      "\t---------------------------------------------------------------------\n",
      "\t|      default     |  164  |   0   |   0   |   2   ||  162  |   0   |\n",
      "\t---------------------------------------------------------------------\n",
      ":: retrieving :: org.apache.spark#spark-submit-parent-75e39b92-49ad-413f-bd2b-7743896b445e\n",
      "\tconfs: [default]\n",
      "\t0 artifacts copied, 162 already retrieved (0kB/23ms)\n",
      "23/04/18 23:04:39 WARN NativeCodeLoader: Unable to load native-hadoop library for your platform... using builtin-java classes where applicable\n",
      "Using Spark's default log4j profile: org/apache/spark/log4j-defaults.properties\n",
      "Setting default log level to \"WARN\".\n",
      "To adjust logging level use sc.setLogLevel(newLevel). For SparkR, use setLogLevel(newLevel).\n",
      "23/04/18 23:04:41 WARN Utils: Service 'SparkUI' could not bind on port 4040. Attempting port 4041.\n"
     ]
    }
   ],
   "source": [
    "conf = SparkConf()\n",
    "conf.set(\"spark.hadoop.fs.s3a.impl\",\n",
    "                 \"org.apache.hadoop.fs.s3a.S3AFileSystem\")\n",
    "conf.set(\"spark.hadoop.fs.s3a.access.key\", \"admin\")\n",
    "conf.set(\"spark.hadoop.fs.s3a.secret.key\", \"123456789\")\n",
    "conf.set(\"spark.hadoop.fs.s3a.endpoint\", \"http://localhost:9000\")\n",
    "conf.set(\"spark.hadoop.fs.s3a.path.style.access\", \"true\")\n",
    "conf.set(\"spark.hadoop.fs.s3a.connection.ssl.enabled\", \"false\")\n",
    "conf.set('spark.hadoop.fs.s3a.aws.credentials.provider',\n",
    "            'org.apache.hadoop.fs.s3a.SimpleAWSCredentialsProvider')\n",
    "conf.set(\n",
    "    \"spark.jars.packages\",\n",
    "    \"io.delta:delta-core_2.12:1.0.0,\"\n",
    "    \"org.apache.hadoop:hadoop-aws:3.1.1,\"\n",
    "    \"com.amazonaws:aws-java-sdk:1.11.271,\"\n",
    "    \"com.amazonaws:aws-java-sdk-bundle:1.11.271,\"\n",
    "    \"software.amazon.awssdk:url-connection-client:2.15.40\",\n",
    ")\n",
    "conf.set(\"spark.sql.extensions\",\n",
    "            \"io.delta.sql.DeltaSparkSessionExtension\")\n",
    "conf.set(\n",
    "    \"spark.sql.catalog.spark_catalog\",\n",
    "    \"org.apache.spark.sql.delta.catalog.DeltaCatalog\",\n",
    ")\n",
    "conf.set(\"spark.databricks.delta.merge.repartitionBeforeWrite.enabled\",\"true\")\n",
    "\n",
    "spark = (\n",
    "    SparkSession\n",
    "    .builder\n",
    "    .config(conf=conf)\n",
    "    .master(\"local[*]\")\n",
    "    .getOrCreate()\n",
    ")"
   ]
  },
  {
   "attachments": {},
   "cell_type": "markdown",
   "metadata": {},
   "source": [
    "### Bronzen"
   ]
  },
  {
   "attachments": {},
   "cell_type": "markdown",
   "metadata": {},
   "source": [
    "#### Orders"
   ]
  },
  {
   "cell_type": "code",
   "execution_count": 3,
   "metadata": {},
   "outputs": [
    {
     "name": "stderr",
     "output_type": "stream",
     "text": [
      "23/04/18 23:04:59 WARN MetricsConfig: Cannot locate configuration: tried hadoop-metrics2-s3a-file-system.properties,hadoop-metrics2.properties\n",
      "[Stage 6:>                                                          (0 + 1) / 1]\r"
     ]
    },
    {
     "name": "stdout",
     "output_type": "stream",
     "text": [
      "+---+-------------+---+-------+-----------+---------+----------+---------+----+-----+---+\n",
      "| op|        ts_ms| id|user_id|    payment|status_id|created_at|before_id|year|month|day|\n",
      "+---+-------------+---+-------+-----------+---------+----------+---------+----+-----+---+\n",
      "|  c|1681833006820| 57|    577|credit_card|        2|1675006844|       57|2023|    1| 29|\n",
      "|  c|1681832645426| 21|   6733|credit_card|        1|1679326844|       21|2023|    3| 20|\n",
      "|  c|1681832866321| 43|   6889|credit_card|        3|1681659644|       43|2023|    4| 16|\n",
      "|  c|1681832705669| 27|   8965|credit_card|        3|1656258044|       27|2022|    6| 26|\n",
      "|  c|1681832524949|  9|   3370|credit_card|        2|1678117244|        9|2023|    3|  6|\n",
      "|  c|1681833127311| 69|   1264|credit_card|        1|1678462844|       69|2023|    3| 10|\n",
      "|  r|1681832458594|  1|   8894|credit_card|        4|1659195644|        1|2022|    7| 30|\n",
      "|  c|1681833077061| 64|   9250|credit_card|        1|1661960444|       64|2022|    8| 31|\n",
      "|  c|1681833629607|119|   1398|credit_card|        3|1665589244|      119|2022|   10| 12|\n",
      "|  c|1681832695624| 26|   5369|credit_card|        4|1656603644|       26|2022|    6| 30|\n",
      "|  c|1681833599494|116|   6416|credit_card|        2|1650987644|      116|2022|    4| 26|\n",
      "|  c|1681833780233|134|   1939|credit_card|        4|1648741244|      134|2022|    3| 31|\n",
      "|  c|1681833509137|107|   4650|credit_card|        1|1668008444|      107|2022|   11|  9|\n",
      "|  c|1681833338246| 90|   3094|credit_card|        1|1655394044|       90|2022|    6| 16|\n",
      "|  c|1681833197612| 76|   9399|credit_card|        1|1654962044|       76|2022|    6| 11|\n",
      "|  c|1681832595193| 16|   1931|credit_card|        3|1668354044|       16|2022|   11| 13|\n",
      "|  c|1681833167488| 73|   6070|credit_card|        4|1665762044|       73|2022|   10| 14|\n",
      "|  c|1681833107213| 67|   7191|credit_card|        3|1660923644|       67|2022|    8| 19|\n",
      "|  c|1681832675565| 24|   9214|credit_card|        2|1647358844|       24|2022|    3| 15|\n",
      "|  c|1681832635385| 20|   8515|credit_card|        4|1680536444|       20|2023|    4|  3|\n",
      "+---+-------------+---+-------+-----------+---------+----------+---------+----+-----+---+\n",
      "only showing top 20 rows\n",
      "\n"
     ]
    },
    {
     "name": "stderr",
     "output_type": "stream",
     "text": [
      "                                                                                \r"
     ]
    }
   ],
   "source": [
    "orderDF = spark.read.format(\"delta\").load(\"s3a://datalake/brozen/cdc.myshop.orders\")\n",
    "orderDF.show()"
   ]
  },
  {
   "attachments": {},
   "cell_type": "markdown",
   "metadata": {},
   "source": [
    "#### Products"
   ]
  },
  {
   "attachments": {},
   "cell_type": "markdown",
   "metadata": {},
   "source": [
    "#### Users"
   ]
  },
  {
   "cell_type": "code",
   "execution_count": 5,
   "metadata": {},
   "outputs": [
    {
     "name": "stderr",
     "output_type": "stream",
     "text": [
      "                                                                                \r"
     ]
    },
    {
     "data": {
      "text/plain": [
       "9999"
      ]
     },
     "execution_count": 5,
     "metadata": {},
     "output_type": "execute_result"
    }
   ],
   "source": [
    "users = spark.read.format(\"delta\").load(\"s3a://datalake/brozen/cdc.myshop.users\")\n",
    "users.count()"
   ]
  },
  {
   "cell_type": "code",
   "execution_count": 14,
   "metadata": {},
   "outputs": [
    {
     "name": "stdout",
     "output_type": "stream",
     "text": [
      "+--------+\n",
      "|count(1)|\n",
      "+--------+\n",
      "|    9998|\n",
      "+--------+\n",
      "\n"
     ]
    }
   ],
   "source": [
    "users.createOrReplaceTempView(\"users\")\n",
    "\n",
    "spark.sql(\"select count(*) from users\").show()"
   ]
  },
  {
   "attachments": {},
   "cell_type": "markdown",
   "metadata": {},
   "source": [
    "#### order detail"
   ]
  },
  {
   "cell_type": "code",
   "execution_count": 22,
   "metadata": {},
   "outputs": [
    {
     "name": "stdout",
     "output_type": "stream",
     "text": [
      "+---+-------------+--------+----------+--------+-----------+----------+---------------+-----------------+\n",
      "| op|        ts_ms|order_id|product_id|quantity|total_price| create_at|before_order_id|before_product_id|\n",
      "+---+-------------+--------+----------+--------+-----------+----------+---------------+-----------------+\n",
      "|  c|1680506120979|       1|       224|       6|     7626.0|1680506120|              1|              224|\n",
      "|  c|1680506120980|       1|       544|       3|     5202.0|1680506120|              1|              544|\n",
      "+---+-------------+--------+----------+--------+-----------+----------+---------------+-----------------+\n",
      "\n"
     ]
    }
   ],
   "source": [
    "order_detail = spark.read.format(\"delta\").load(\"s3a://datalake/brozen/cdc.myshop.order_detail\")\n",
    "order_detail.createOrReplaceTempView(\"order_detail\")\n",
    "spark.sql(\"select * from order_detail where order_id = 1\").show()"
   ]
  },
  {
   "cell_type": "code",
   "execution_count": 21,
   "metadata": {},
   "outputs": [
    {
     "name": "stdout",
     "output_type": "stream",
     "text": [
      "+---+-------------+--------+----------+--------+-----------+----------+---------------+-----------------+\n",
      "| op|        ts_ms|order_id|product_id|quantity|total_price| create_at|before_order_id|before_product_id|\n",
      "+---+-------------+--------+----------+--------+-----------+----------+---------------+-----------------+\n",
      "|  c|1680508336597|       7|       426|       2|     1102.0|1680508306|              7|              426|\n",
      "|  c|1680508376686|      11|       732|       1|     1673.0|1680508306|             11|              732|\n",
      "|  c|1680513026109|      21|       643|       5|     5210.0|1680513026|             21|              643|\n",
      "|  c|1680508376686|      11|       209|       2|      548.0|1680508306|             11|              209|\n",
      "|  c|1680508386713|      12|       132|       1|      447.0|1680508306|             12|              132|\n",
      "|  c|1680508306502|       4|       164|       4|     7036.0|1680508306|              4|              164|\n",
      "|  c|1680508326562|       6|       755|       2|     1350.0|1680508306|              6|              755|\n",
      "|  c|1680508396733|      13|       473|       4|     6960.0|1680508306|             13|              473|\n",
      "|  c|1680513056191|      24|       413|       4|     4572.0|1680513026|             24|              413|\n",
      "|  c|1680513026109|      21|       221|       2|      260.0|1680513026|             21|              221|\n",
      "|  c|1680513046172|      23|       437|       1|     1133.0|1680513026|             23|              437|\n",
      "|  c|1680508406771|      14|       635|       1|      225.0|1680508306|             14|              635|\n",
      "|  c|1680508537669|      18|       586|       1|     1775.0|1680508527|             18|              586|\n",
      "|  c|1680508336597|       7|       230|       5|     8405.0|1680508306|              7|              230|\n",
      "|  c|1680508366653|      10|        82|       2|      616.0|1680508306|             10|               82|\n",
      "|  c|1680506120979|       1|       224|       6|     7626.0|1680506120|              1|              224|\n",
      "|  c|1680508406771|      14|       352|       5|     8310.0|1680508306|             14|              352|\n",
      "|  c|1680508396733|      13|        94|       3|      711.0|1680508306|             13|               94|\n",
      "|  c|1680513036139|      22|       669|       1|     1801.0|1680513026|             22|              669|\n",
      "|  c|1680508316527|       5|       365|       6|     5586.0|1680508306|              5|              365|\n",
      "+---+-------------+--------+----------+--------+-----------+----------+---------------+-----------------+\n",
      "only showing top 20 rows\n",
      "\n"
     ]
    }
   ],
   "source": [
    "order_detail = spark.read.format(\"delta\").load(\"s3a://datalake/brozen/cdc.myshop.order_detail\")\n",
    "order_detail.createOrReplaceTempView(\"order_detail\")\n",
    "spark.sql(\"select * from order_detail\").show()"
   ]
  },
  {
   "attachments": {},
   "cell_type": "markdown",
   "metadata": {},
   "source": [
    "### Sliver"
   ]
  },
  {
   "attachments": {},
   "cell_type": "markdown",
   "metadata": {},
   "source": [
    "#### order detail"
   ]
  },
  {
   "cell_type": "code",
   "execution_count": 5,
   "metadata": {},
   "outputs": [
    {
     "name": "stdout",
     "output_type": "stream",
     "text": [
      "+---+-------------+--------+----------+--------+-----------+----------+--------------------+----+-----+---+\n",
      "| op|        ts_ms|order_id|product_id|quantity|total_price| create_at|           timestamp|year|month|day|\n",
      "+---+-------------+--------+----------+--------+-----------+----------+--------------------+----+-----+---+\n",
      "|  c|1680532707945|       1|       160|       6|     9348.0|1680532707|2023-04-03 21:38:...|2023|    4|  3|\n",
      "|  c|1680532707945|       1|       634|       6|     5070.0|1680532707|2023-04-03 21:38:...|2023|    4|  3|\n",
      "|  c|1680532717983|       2|        28|       6|    10464.0|1680532707|2023-04-03 21:38:...|2023|    4|  3|\n",
      "|  c|1680532717983|       2|       457|       4|      712.0|1680532707|2023-04-03 21:38:...|2023|    4|  3|\n",
      "|  c|1680532717983|       2|       597|       5|     1195.0|1680532707|2023-04-03 21:38:...|2023|    4|  3|\n",
      "|  c|1680532717983|       2|       137|       4|      952.0|1680532707|2023-04-03 21:38:...|2023|    4|  3|\n",
      "|  c|1680532717983|       2|       774|       5|     6295.0|1680532707|2023-04-03 21:38:...|2023|    4|  3|\n",
      "|  c|1680532728015|       3|       557|       3|     3780.0|1680532707|2023-04-03 21:38:...|2023|    4|  3|\n",
      "|  c|1680532728016|       3|       532|       4|     3360.0|1680532707|2023-04-03 21:38:...|2023|    4|  3|\n",
      "|  c|1680532728015|       3|       587|       5|     3250.0|1680532707|2023-04-03 21:38:...|2023|    4|  3|\n",
      "|  c|1680532728016|       3|       185|       2|     3626.0|1680532707|2023-04-03 21:38:...|2023|    4|  3|\n",
      "|  c|1680532728015|       3|       271|       3|     3288.0|1680532707|2023-04-03 21:38:...|2023|    4|  3|\n",
      "|  c|1680537948901|       4|        91|       4|     2444.0|1680537948|2023-04-03 23:05:...|2023|    4|  3|\n",
      "|  c|1680537958944|       5|        45|       4|     7944.0|1680537948|2023-04-03 23:05:...|2023|    4|  3|\n",
      "|  c|1680537958944|       5|       672|       6|     5526.0|1680537948|2023-04-03 23:05:...|2023|    4|  3|\n",
      "|  c|1680537958944|       5|       189|       3|     3342.0|1680537948|2023-04-03 23:05:...|2023|    4|  3|\n",
      "|  c|1680537958944|       5|       725|       6|    11232.0|1680537948|2023-04-03 23:05:...|2023|    4|  3|\n",
      "|  c|1680537958944|       5|       230|       4|     6724.0|1680537948|2023-04-03 23:05:...|2023|    4|  3|\n",
      "+---+-------------+--------+----------+--------+-----------+----------+--------------------+----+-----+---+\n",
      "\n"
     ]
    }
   ],
   "source": [
    "order_detail = spark.read.format(\"delta\").load(\"s3a://datalake/sliver/cdc.myshop.order_detail\")\n",
    "order_detail.orderBy(\"order_id\").show()"
   ]
  },
  {
   "cell_type": "code",
   "execution_count": 14,
   "metadata": {},
   "outputs": [
    {
     "data": {
      "text/plain": [
       "41"
      ]
     },
     "execution_count": 14,
     "metadata": {},
     "output_type": "execute_result"
    }
   ],
   "source": [
    "orders = spark.read.format(\"delta\").load(\"s3a://datalake/sliver/cdc.myshop.order_detail\")\n",
    "orders.count()"
   ]
  },
  {
   "cell_type": "code",
   "execution_count": null,
   "metadata": {},
   "outputs": [],
   "source": [
    "path_table = \"s3a://datalake/brozen/cdc.inventory.orders\"\n",
    "df = spark.read.format(\"delta\").option(\"versionAsOf\", 0).load(path_table)\n",
    "df.show()"
   ]
  },
  {
   "cell_type": "code",
   "execution_count": null,
   "metadata": {},
   "outputs": [],
   "source": [
    "delta_table = DeltaTable.forPath(spark, \"s3a://datalake/brozen/cdc.inventory.orders\")\n",
    "history = delta_table.history()\n",
    "history.show()"
   ]
  },
  {
   "cell_type": "code",
   "execution_count": null,
   "metadata": {},
   "outputs": [],
   "source": [
    "df = spark.read.format(\"delta\").load(\"s3a://datalake/sliver\")\n",
    "df.show()"
   ]
  }
 ],
 "metadata": {
  "kernelspec": {
   "display_name": "Python 3",
   "language": "python",
   "name": "python3"
  },
  "language_info": {
   "codemirror_mode": {
    "name": "ipython",
    "version": 3
   },
   "file_extension": ".py",
   "mimetype": "text/x-python",
   "name": "python",
   "nbconvert_exporter": "python",
   "pygments_lexer": "ipython3",
   "version": "3.10.6"
  },
  "orig_nbformat": 4
 },
 "nbformat": 4,
 "nbformat_minor": 2
}
