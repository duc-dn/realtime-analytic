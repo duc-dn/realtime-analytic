{
 "cells": [
  {
   "cell_type": "code",
   "execution_count": 2,
   "metadata": {},
   "outputs": [],
   "source": [
    "from pyspark import SparkConf\n",
    "from pyspark.sql import SparkSession\n",
    "from delta.tables import *\n",
    "from pyspark.sql.functions import *\n",
    "from pyspark.sql.functions import sum as _sum"
   ]
  },
  {
   "cell_type": "code",
   "execution_count": 4,
   "metadata": {},
   "outputs": [],
   "source": [
    "conf = SparkConf()\n",
    "conf.set(\"spark.hadoop.fs.s3a.impl\",\n",
    "                 \"org.apache.hadoop.fs.s3a.S3AFileSystem\")\n",
    "conf.set(\"spark.hadoop.fs.s3a.access.key\", \"admin\")\n",
    "conf.set(\"spark.hadoop.fs.s3a.secret.key\", \"123456789\")\n",
    "conf.set(\"spark.hadoop.fs.s3a.endpoint\", \"http://localhost:9000\")\n",
    "conf.set(\"spark.hadoop.fs.s3a.path.style.access\", \"true\")\n",
    "conf.set(\"spark.hadoop.fs.s3a.connection.ssl.enabled\", \"false\")\n",
    "conf.set('spark.hadoop.fs.s3a.aws.credentials.provider',\n",
    "            'org.apache.hadoop.fs.s3a.SimpleAWSCredentialsProvider')\n",
    "conf.set(\n",
    "    \"spark.jars.packages\",\n",
    "    \"io.delta:delta-core_2.12:1.0.0,\"\n",
    "    \"org.apache.hadoop:hadoop-aws:3.1.1,\"\n",
    "    \"com.amazonaws:aws-java-sdk:1.11.271,\"\n",
    "    \"com.amazonaws:aws-java-sdk-bundle:1.11.271,\"\n",
    "    \"software.amazon.awssdk:url-connection-client:2.15.40\",\n",
    ")\n",
    "conf.set(\"spark.sql.extensions\",\n",
    "            \"io.delta.sql.DeltaSparkSessionExtension\")\n",
    "conf.set(\n",
    "    \"spark.sql.catalog.spark_catalog\",\n",
    "    \"org.apache.spark.sql.delta.catalog.DeltaCatalog\",\n",
    ")\n",
    "conf.set(\"spark.databricks.delta.merge.repartitionBeforeWrite.enabled\",\"true\")\n",
    "\n",
    "spark = (\n",
    "    SparkSession\n",
    "    .builder\n",
    "    .config(conf=conf)\n",
    "    .master(\"local[*]\")\n",
    "    .getOrCreate()\n",
    ")"
   ]
  },
  {
   "cell_type": "code",
   "execution_count": 5,
   "metadata": {},
   "outputs": [],
   "source": [
    "base_path = \"s3a://datalake/brozen/\""
   ]
  },
  {
   "attachments": {},
   "cell_type": "markdown",
   "metadata": {},
   "source": [
    "#### Delta table history"
   ]
  },
  {
   "attachments": {},
   "cell_type": "markdown",
   "metadata": {},
   "source": [
    "#### Get history of table"
   ]
  },
  {
   "cell_type": "code",
   "execution_count": 30,
   "metadata": {},
   "outputs": [
    {
     "name": "stdout",
     "output_type": "stream",
     "text": [
      "+-------+-------------------+------+--------+---------+----------------------------------------------------------------------------------------------------------------------------------------------------------------------------------------------------------------------------------------------------------------------------------------------+----+--------+---------+-----------+--------------+-------------+---------------------------------------------------------------------------------------------------------------------------------------------------------------------------------------------------------------------------------------------------------------------------------+------------+\n",
      "|version|timestamp          |userId|userName|operation|operationParameters                                                                                                                                                                                                                                                                           |job |notebook|clusterId|readVersion|isolationLevel|isBlindAppend|operationMetrics                                                                                                                                                                                                                                                                 |userMetadata|\n",
      "+-------+-------------------+------+--------+---------+----------------------------------------------------------------------------------------------------------------------------------------------------------------------------------------------------------------------------------------------------------------------------------------------+----+--------+---------+-----------+--------------+-------------+---------------------------------------------------------------------------------------------------------------------------------------------------------------------------------------------------------------------------------------------------------------------------------+------------+\n",
      "|14     |2023-04-22 23:19:18|null  |null    |MERGE    |{predicate -> (target.`id` = source.`before_id`), matchedPredicates -> [{\"predicate\":\"(source.`op` = 'd')\",\"actionType\":\"delete\"},{\"predicate\":\"(NOT (source.`op` = 'd'))\",\"actionType\":\"update\"}], notMatchedPredicates -> [{\"predicate\":\"(NOT (source.`op` = 'd'))\",\"actionType\":\"insert\"}]}|null|null    |null     |13         |null          |false        |{numTargetRowsCopied -> 0, numTargetRowsDeleted -> 0, numTargetFilesAdded -> 6, executionTimeMs -> 14891, numTargetRowsInserted -> 6, scanTimeMs -> 9553, numTargetRowsUpdated -> 0, numOutputRows -> 6, numSourceRows -> 6, numTargetFilesRemoved -> 0, rewriteTimeMs -> 5326}  |null        |\n",
      "|13     |2023-04-22 23:18:17|null  |null    |MERGE    |{predicate -> (target.`id` = source.`before_id`), matchedPredicates -> [{\"predicate\":\"(source.`op` = 'd')\",\"actionType\":\"delete\"},{\"predicate\":\"(NOT (source.`op` = 'd'))\",\"actionType\":\"update\"}], notMatchedPredicates -> [{\"predicate\":\"(NOT (source.`op` = 'd'))\",\"actionType\":\"insert\"}]}|null|null    |null     |12         |null          |false        |{numTargetRowsCopied -> 0, numTargetRowsDeleted -> 0, numTargetFilesAdded -> 6, executionTimeMs -> 14406, numTargetRowsInserted -> 6, scanTimeMs -> 7034, numTargetRowsUpdated -> 0, numOutputRows -> 6, numSourceRows -> 6, numTargetFilesRemoved -> 0, rewriteTimeMs -> 7362}  |null        |\n",
      "|12     |2023-04-22 23:17:15|null  |null    |MERGE    |{predicate -> (target.`id` = source.`before_id`), matchedPredicates -> [{\"predicate\":\"(source.`op` = 'd')\",\"actionType\":\"delete\"},{\"predicate\":\"(NOT (source.`op` = 'd'))\",\"actionType\":\"update\"}], notMatchedPredicates -> [{\"predicate\":\"(NOT (source.`op` = 'd'))\",\"actionType\":\"insert\"}]}|null|null    |null     |11         |null          |false        |{numTargetRowsCopied -> 0, numTargetRowsDeleted -> 0, numTargetFilesAdded -> 6, executionTimeMs -> 12695, numTargetRowsInserted -> 6, scanTimeMs -> 8186, numTargetRowsUpdated -> 0, numOutputRows -> 6, numSourceRows -> 6, numTargetFilesRemoved -> 0, rewriteTimeMs -> 4501}  |null        |\n",
      "|11     |2023-04-22 23:16:18|null  |null    |MERGE    |{predicate -> (target.`id` = source.`before_id`), matchedPredicates -> [{\"predicate\":\"(source.`op` = 'd')\",\"actionType\":\"delete\"},{\"predicate\":\"(NOT (source.`op` = 'd'))\",\"actionType\":\"update\"}], notMatchedPredicates -> [{\"predicate\":\"(NOT (source.`op` = 'd'))\",\"actionType\":\"insert\"}]}|null|null    |null     |10         |null          |false        |{numTargetRowsCopied -> 0, numTargetRowsDeleted -> 0, numTargetFilesAdded -> 6, executionTimeMs -> 14002, numTargetRowsInserted -> 6, scanTimeMs -> 9156, numTargetRowsUpdated -> 0, numOutputRows -> 6, numSourceRows -> 6, numTargetFilesRemoved -> 0, rewriteTimeMs -> 4839}  |null        |\n",
      "|10     |2023-04-22 23:15:21|null  |null    |MERGE    |{predicate -> (target.`id` = source.`before_id`), matchedPredicates -> [{\"predicate\":\"(source.`op` = 'd')\",\"actionType\":\"delete\"},{\"predicate\":\"(NOT (source.`op` = 'd'))\",\"actionType\":\"update\"}], notMatchedPredicates -> [{\"predicate\":\"(NOT (source.`op` = 'd'))\",\"actionType\":\"insert\"}]}|null|null    |null     |9          |null          |false        |{numTargetRowsCopied -> 0, numTargetRowsDeleted -> 0, numTargetFilesAdded -> 6, executionTimeMs -> 17680, numTargetRowsInserted -> 6, scanTimeMs -> 10398, numTargetRowsUpdated -> 0, numOutputRows -> 6, numSourceRows -> 6, numTargetFilesRemoved -> 0, rewriteTimeMs -> 7270} |null        |\n",
      "|9      |2023-04-22 23:14:20|null  |null    |MERGE    |{predicate -> (target.`id` = source.`before_id`), matchedPredicates -> [{\"predicate\":\"(source.`op` = 'd')\",\"actionType\":\"delete\"},{\"predicate\":\"(NOT (source.`op` = 'd'))\",\"actionType\":\"update\"}], notMatchedPredicates -> [{\"predicate\":\"(NOT (source.`op` = 'd'))\",\"actionType\":\"insert\"}]}|null|null    |null     |8          |null          |false        |{numTargetRowsCopied -> 0, numTargetRowsDeleted -> 0, numTargetFilesAdded -> 6, executionTimeMs -> 14735, numTargetRowsInserted -> 6, scanTimeMs -> 8061, numTargetRowsUpdated -> 0, numOutputRows -> 6, numSourceRows -> 6, numTargetFilesRemoved -> 0, rewriteTimeMs -> 6667}  |null        |\n",
      "|8      |2023-04-22 23:13:17|null  |null    |MERGE    |{predicate -> (target.`id` = source.`before_id`), matchedPredicates -> [{\"predicate\":\"(source.`op` = 'd')\",\"actionType\":\"delete\"},{\"predicate\":\"(NOT (source.`op` = 'd'))\",\"actionType\":\"update\"}], notMatchedPredicates -> [{\"predicate\":\"(NOT (source.`op` = 'd'))\",\"actionType\":\"insert\"}]}|null|null    |null     |7          |null          |false        |{numTargetRowsCopied -> 0, numTargetRowsDeleted -> 0, numTargetFilesAdded -> 6, executionTimeMs -> 14410, numTargetRowsInserted -> 6, scanTimeMs -> 7576, numTargetRowsUpdated -> 0, numOutputRows -> 6, numSourceRows -> 6, numTargetFilesRemoved -> 0, rewriteTimeMs -> 6823}  |null        |\n",
      "|7      |2023-04-22 23:12:25|null  |null    |MERGE    |{predicate -> (target.`id` = source.`before_id`), matchedPredicates -> [{\"predicate\":\"(source.`op` = 'd')\",\"actionType\":\"delete\"},{\"predicate\":\"(NOT (source.`op` = 'd'))\",\"actionType\":\"update\"}], notMatchedPredicates -> [{\"predicate\":\"(NOT (source.`op` = 'd'))\",\"actionType\":\"insert\"}]}|null|null    |null     |6          |null          |false        |{numTargetRowsCopied -> 0, numTargetRowsDeleted -> 0, numTargetFilesAdded -> 6, executionTimeMs -> 21286, numTargetRowsInserted -> 6, scanTimeMs -> 10239, numTargetRowsUpdated -> 0, numOutputRows -> 6, numSourceRows -> 6, numTargetFilesRemoved -> 0, rewriteTimeMs -> 11035}|null        |\n",
      "|6      |2023-04-22 23:11:16|null  |null    |MERGE    |{predicate -> (target.`id` = source.`before_id`), matchedPredicates -> [{\"predicate\":\"(source.`op` = 'd')\",\"actionType\":\"delete\"},{\"predicate\":\"(NOT (source.`op` = 'd'))\",\"actionType\":\"update\"}], notMatchedPredicates -> [{\"predicate\":\"(NOT (source.`op` = 'd'))\",\"actionType\":\"insert\"}]}|null|null    |null     |5          |null          |false        |{numTargetRowsCopied -> 0, numTargetRowsDeleted -> 0, numTargetFilesAdded -> 6, executionTimeMs -> 12921, numTargetRowsInserted -> 6, scanTimeMs -> 8228, numTargetRowsUpdated -> 0, numOutputRows -> 6, numSourceRows -> 6, numTargetFilesRemoved -> 0, rewriteTimeMs -> 4682}  |null        |\n",
      "|5      |2023-04-22 23:10:19|null  |null    |MERGE    |{predicate -> (target.`id` = source.`before_id`), matchedPredicates -> [{\"predicate\":\"(source.`op` = 'd')\",\"actionType\":\"delete\"},{\"predicate\":\"(NOT (source.`op` = 'd'))\",\"actionType\":\"update\"}], notMatchedPredicates -> [{\"predicate\":\"(NOT (source.`op` = 'd'))\",\"actionType\":\"insert\"}]}|null|null    |null     |4          |null          |false        |{numTargetRowsCopied -> 0, numTargetRowsDeleted -> 0, numTargetFilesAdded -> 6, executionTimeMs -> 13575, numTargetRowsInserted -> 6, scanTimeMs -> 7570, numTargetRowsUpdated -> 0, numOutputRows -> 6, numSourceRows -> 6, numTargetFilesRemoved -> 0, rewriteTimeMs -> 5989}  |null        |\n",
      "|4      |2023-04-22 23:09:19|null  |null    |MERGE    |{predicate -> (target.`id` = source.`before_id`), matchedPredicates -> [{\"predicate\":\"(source.`op` = 'd')\",\"actionType\":\"delete\"},{\"predicate\":\"(NOT (source.`op` = 'd'))\",\"actionType\":\"update\"}], notMatchedPredicates -> [{\"predicate\":\"(NOT (source.`op` = 'd'))\",\"actionType\":\"insert\"}]}|null|null    |null     |3          |null          |false        |{numTargetRowsCopied -> 0, numTargetRowsDeleted -> 0, numTargetFilesAdded -> 6, executionTimeMs -> 15350, numTargetRowsInserted -> 6, scanTimeMs -> 8772, numTargetRowsUpdated -> 0, numOutputRows -> 6, numSourceRows -> 6, numTargetFilesRemoved -> 0, rewriteTimeMs -> 6537}  |null        |\n",
      "|3      |2023-04-22 23:08:20|null  |null    |MERGE    |{predicate -> (target.`id` = source.`before_id`), matchedPredicates -> [{\"predicate\":\"(source.`op` = 'd')\",\"actionType\":\"delete\"},{\"predicate\":\"(NOT (source.`op` = 'd'))\",\"actionType\":\"update\"}], notMatchedPredicates -> [{\"predicate\":\"(NOT (source.`op` = 'd'))\",\"actionType\":\"insert\"}]}|null|null    |null     |2          |null          |false        |{numTargetRowsCopied -> 0, numTargetRowsDeleted -> 0, numTargetFilesAdded -> 6, executionTimeMs -> 15049, numTargetRowsInserted -> 6, scanTimeMs -> 8824, numTargetRowsUpdated -> 0, numOutputRows -> 6, numSourceRows -> 6, numTargetFilesRemoved -> 0, rewriteTimeMs -> 6216}  |null        |\n",
      "|2      |2023-04-22 23:07:27|null  |null    |MERGE    |{predicate -> (target.`id` = source.`before_id`), matchedPredicates -> [{\"predicate\":\"(source.`op` = 'd')\",\"actionType\":\"delete\"},{\"predicate\":\"(NOT (source.`op` = 'd'))\",\"actionType\":\"update\"}], notMatchedPredicates -> [{\"predicate\":\"(NOT (source.`op` = 'd'))\",\"actionType\":\"insert\"}]}|null|null    |null     |1          |null          |false        |{numTargetRowsCopied -> 0, numTargetRowsDeleted -> 0, numTargetFilesAdded -> 6, executionTimeMs -> 23226, numTargetRowsInserted -> 6, scanTimeMs -> 15613, numTargetRowsUpdated -> 0, numOutputRows -> 6, numSourceRows -> 6, numTargetFilesRemoved -> 0, rewriteTimeMs -> 7601} |null        |\n",
      "|1      |2023-04-22 23:06:18|null  |null    |MERGE    |{predicate -> (target.`id` = source.`before_id`), matchedPredicates -> [{\"predicate\":\"(source.`op` = 'd')\",\"actionType\":\"delete\"},{\"predicate\":\"(NOT (source.`op` = 'd'))\",\"actionType\":\"update\"}], notMatchedPredicates -> [{\"predicate\":\"(NOT (source.`op` = 'd'))\",\"actionType\":\"insert\"}]}|null|null    |null     |0          |null          |false        |{numTargetRowsCopied -> 0, numTargetRowsDeleted -> 0, numTargetFilesAdded -> 1, executionTimeMs -> 14651, numTargetRowsInserted -> 1, scanTimeMs -> 8100, numTargetRowsUpdated -> 0, numOutputRows -> 1, numSourceRows -> 1, numTargetFilesRemoved -> 0, rewriteTimeMs -> 6542}  |null        |\n",
      "|0      |2023-04-22 22:23:29|null  |null    |WRITE    |{mode -> Overwrite, partitionBy -> [\"year\",\"month\",\"day\"]}                                                                                                                                                                                                                                    |null|null    |null     |null       |null          |false        |{numFiles -> 154, numOutputBytes -> 302890, numOutputRows -> 161}                                                                                                                                                                                                                |null        |\n",
      "+-------+-------------------+------+--------+---------+----------------------------------------------------------------------------------------------------------------------------------------------------------------------------------------------------------------------------------------------------------------------------------------------+----+--------+---------+-----------+--------------+-------------+---------------------------------------------------------------------------------------------------------------------------------------------------------------------------------------------------------------------------------------------------------------------------------+------------+\n",
      "\n"
     ]
    }
   ],
   "source": [
    "def get_full_history_table(table_name: str):\n",
    "    deltaTable = DeltaTable.forPath(spark, base_path + table_name)\n",
    "\n",
    "    fullHistoryDF = deltaTable.history()    # get the full history of the table\n",
    "\n",
    "    return fullHistoryDF\n",
    "\n",
    "df_history = get_full_history_table(\"cdc.myshop.orders\")\n",
    "df_history.show(truncate=False)"
   ]
  },
  {
   "cell_type": "code",
   "execution_count": 31,
   "metadata": {},
   "outputs": [
    {
     "name": "stdout",
     "output_type": "stream",
     "text": [
      "+-------+-------------------+---------+\n",
      "|version|timestamp          |operation|\n",
      "+-------+-------------------+---------+\n",
      "|14     |2023-04-22 23:19:18|MERGE    |\n",
      "|13     |2023-04-22 23:18:17|MERGE    |\n",
      "|12     |2023-04-22 23:17:15|MERGE    |\n",
      "|11     |2023-04-22 23:16:18|MERGE    |\n",
      "|10     |2023-04-22 23:15:21|MERGE    |\n",
      "|9      |2023-04-22 23:14:20|MERGE    |\n",
      "|8      |2023-04-22 23:13:17|MERGE    |\n",
      "|7      |2023-04-22 23:12:25|MERGE    |\n",
      "|6      |2023-04-22 23:11:16|MERGE    |\n",
      "|5      |2023-04-22 23:10:19|MERGE    |\n",
      "|4      |2023-04-22 23:09:19|MERGE    |\n",
      "|3      |2023-04-22 23:08:20|MERGE    |\n",
      "|2      |2023-04-22 23:07:27|MERGE    |\n",
      "|1      |2023-04-22 23:06:18|MERGE    |\n",
      "|0      |2023-04-22 22:23:29|WRITE    |\n",
      "+-------+-------------------+---------+\n",
      "\n"
     ]
    }
   ],
   "source": [
    "df_history.select(\"version\", \"timestamp\", \"operation\").show(truncate=False)"
   ]
  },
  {
   "attachments": {},
   "cell_type": "markdown",
   "metadata": {},
   "source": [
    "#### Time travel Query with version of table"
   ]
  },
  {
   "cell_type": "code",
   "execution_count": 27,
   "metadata": {},
   "outputs": [
    {
     "name": "stdout",
     "output_type": "stream",
     "text": [
      "+---+-------------+---+-------+-----------+---------+----------+---------+----+-----+---+\n",
      "|op |ts_ms        |id |user_id|payment    |status_id|created_at|before_id|year|month|day|\n",
      "+---+-------------+---+-------+-----------+---------+----------+---------+----+-----+---+\n",
      "|r  |1682161423510|112|6528   |instalment |2        |1660146044|112      |2022|8    |10 |\n",
      "|r  |1682161423510|123|7665   |instalment |2        |1660146044|123      |2022|8    |10 |\n",
      "|r  |1682161423508|18 |70     |credit_card|3        |1657122044|18       |2022|7    |6  |\n",
      "|r  |1682161423511|136|2793   |credit_card|3        |1657122044|136      |2022|7    |6  |\n",
      "|r  |1682161423508|17 |185    |cash       |1        |1664552444|17       |2022|9    |30 |\n",
      "|r  |1682161423510|84 |742    |cash       |2        |1664552444|84       |2022|9    |30 |\n",
      "|r  |1682161423511|140|6254   |instalment |4        |1664552444|140      |2022|9    |30 |\n",
      "|r  |1682161423510|100|5339   |credit_card|3        |1675179644|100      |2023|1    |31 |\n",
      "|r  |1682161423510|117|7329   |cash       |2        |1675179644|117      |2023|1    |31 |\n",
      "|r  |1682161423508|24 |9214   |credit_card|2        |1647358844|24       |2022|3    |15 |\n",
      "|r  |1682161423509|40 |6477   |cash       |4        |1647358844|40       |2022|3    |15 |\n",
      "|r  |1682161423508|6  |2782   |cash       |3        |1649605244|6        |2022|4    |10 |\n",
      "|r  |1682161423510|97 |955    |instalment |1        |1649605244|97       |2022|4    |10 |\n",
      "|r  |1682161423511|153|5860   |credit_card|4        |1660491644|153      |2022|8    |14 |\n",
      "|r  |1682161423509|57 |577    |credit_card|2        |1675006844|57       |2023|1    |29 |\n",
      "|c  |1682180248909|231|2775   |credit_card|3        |1668096355|231      |2022|11   |10 |\n",
      "|r  |1682161423508|21 |6733   |credit_card|1        |1679326844|21       |2023|3    |20 |\n",
      "|c  |1682180339277|240|5928   |credit_card|1        |1665331555|240      |2022|10   |9  |\n",
      "|c  |1682180068205|213|9513   |credit_card|3        |1672070755|213      |2022|12   |26 |\n",
      "|r  |1682161423509|43 |6889   |credit_card|3        |1681659644|43       |2023|4    |16 |\n",
      "+---+-------------+---+-------+-----------+---------+----------+---------+----+-----+---+\n",
      "only showing top 20 rows\n",
      "\n"
     ]
    },
    {
     "data": {
      "text/plain": [
       "240"
      ]
     },
     "execution_count": 27,
     "metadata": {},
     "output_type": "execute_result"
    }
   ],
   "source": [
    "def time_travel_query_version(table_name: str, version: str):\n",
    "    df_res = (\n",
    "        spark.read\n",
    "        .format(\"delta\")\n",
    "        .option(\"versionAsOf\", version)\n",
    "        .load(base_path + table_name)\n",
    "    )\n",
    "    return df_res\n",
    "\n",
    "df = time_travel_query_version(\"cdc.myshop.orders\", \"14\")\n",
    "df.show(truncate=False)\n",
    "df.count()"
   ]
  },
  {
   "attachments": {},
   "cell_type": "markdown",
   "metadata": {},
   "source": [
    "#### Time travel query with timestamp"
   ]
  },
  {
   "cell_type": "code",
   "execution_count": null,
   "metadata": {},
   "outputs": [],
   "source": [
    "def time_travel_query_timestamp(table_name: str, timestamp: str):\n",
    "    df_res = (\n",
    "        spark.read\n",
    "        .format(\"delta\")\n",
    "        .option(\"timestampAsOf\", timestamp)\n",
    "        .load(base_path + table_name)\n",
    "    )\n",
    "    return df_res\n",
    "\n",
    "df = time_travel_query_timestamp(\"cdc.myshop.orders\", \"2023-04-16\")\n",
    "df.show(truncate=False)\n",
    "df.count()"
   ]
  }
 ],
 "metadata": {
  "kernelspec": {
   "display_name": "Python 3",
   "language": "python",
   "name": "python3"
  },
  "language_info": {
   "codemirror_mode": {
    "name": "ipython",
    "version": 3
   },
   "file_extension": ".py",
   "mimetype": "text/x-python",
   "name": "python",
   "nbconvert_exporter": "python",
   "pygments_lexer": "ipython3",
   "version": "3.10.6"
  },
  "orig_nbformat": 4
 },
 "nbformat": 4,
 "nbformat_minor": 2
}
