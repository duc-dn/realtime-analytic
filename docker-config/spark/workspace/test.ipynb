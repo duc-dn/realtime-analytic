{
 "cells": [
  {
   "cell_type": "code",
   "execution_count": 1,
   "metadata": {},
   "outputs": [],
   "source": [
    "from datetime import date\n",
    "\n",
    "from config import (\n",
    "    MINIO_ACCESS_KEY,\n",
    "    MINIO_SECRET_KEY,\n",
    "    MINIO_SERVER_HOST,\n",
    ")\n",
    "from data_config import TABLE_MAPPINGS\n",
    "from delta.tables import *\n",
    "from pyspark.sql import SparkSession\n",
    "from pyspark.sql.avro.functions import from_avro\n",
    "from pyspark.sql.dataframe import DataFrame\n",
    "from pyspark.sql.functions import avg, col, conv, expr, from_json, hex, rank, substring\n",
    "from pyspark.sql.functions import sum as _sum\n",
    "from pyspark.sql.functions import when\n",
    "from pyspark.sql.streaming import DataStreamReader, StreamingQuery\n",
    "from pyspark.sql.types import DoubleType, StringType\n",
    "from pyspark.sql.utils import AnalysisException\n",
    "from util.convert_timestamp import convert_timestamp\n",
    "from util.logger import logger"
   ]
  },
  {
   "cell_type": "code",
   "execution_count": 2,
   "metadata": {},
   "outputs": [
    {
     "name": "stderr",
     "output_type": "stream",
     "text": [
      "23/05/14 17:19:26 WARN Utils: Your hostname, ducdn-G3-3579 resolves to a loopback address: 127.0.1.1; using 192.168.2.108 instead (on interface wlo1)\n",
      "23/05/14 17:19:26 WARN Utils: Set SPARK_LOCAL_IP if you need to bind to another address\n"
     ]
    },
    {
     "name": "stdout",
     "output_type": "stream",
     "text": [
      ":: loading settings :: url = jar:file:/home/ducdn/Documents/spark/jars/ivy-2.5.0.jar!/org/apache/ivy/core/settings/ivysettings.xml\n"
     ]
    },
    {
     "name": "stderr",
     "output_type": "stream",
     "text": [
      "Ivy Default Cache set to: /home/ducdn/.ivy2/cache\n",
      "The jars for the packages stored in: /home/ducdn/.ivy2/jars\n",
      "io.delta#delta-core_2.12 added as a dependency\n",
      "org.apache.spark#spark-avro_2.12 added as a dependency\n",
      "org.apache.hadoop#hadoop-aws added as a dependency\n",
      "com.amazonaws#aws-java-sdk added as a dependency\n",
      "org.apache.spark#spark-tags_2.12 added as a dependency\n",
      ":: resolving dependencies :: org.apache.spark#spark-submit-parent-43932c39-d5aa-42ee-b11d-87bcf271ec7d;1.0\n",
      "\tconfs: [default]\n",
      "\tfound io.delta#delta-core_2.12;2.0.0 in central\n",
      "\tfound io.delta#delta-storage;2.0.0 in central\n",
      "\tfound org.antlr#antlr4-runtime;4.8 in central\n",
      "\tfound org.codehaus.jackson#jackson-core-asl;1.9.13 in central\n",
      "\tfound org.apache.spark#spark-avro_2.12;3.2.0 in central\n",
      "\tfound org.tukaani#xz;1.8 in central\n",
      "\tfound org.spark-project.spark#unused;1.0.0 in central\n",
      "\tfound org.apache.hadoop#hadoop-aws;3.2.3 in central\n",
      "\tfound com.amazonaws#aws-java-sdk-bundle;1.11.901 in central\n",
      "\tfound com.amazonaws#aws-java-sdk;1.11.375 in central\n",
      "\tfound com.amazonaws#aws-java-sdk-dlm;1.11.375 in central\n",
      "\tfound com.amazonaws#aws-java-sdk-core;1.11.375 in central\n",
      "\tfound commons-logging#commons-logging;1.1.3 in central\n",
      "\tfound org.apache.httpcomponents#httpclient;4.5.5 in central\n",
      "\tfound org.apache.httpcomponents#httpcore;4.4.9 in central\n",
      "\tfound commons-codec#commons-codec;1.10 in central\n",
      "\tfound software.amazon.ion#ion-java;1.0.2 in central\n",
      "\tfound com.fasterxml.jackson.core#jackson-databind;2.6.7.1 in central\n",
      "\tfound com.fasterxml.jackson.core#jackson-annotations;2.6.0 in central\n",
      "\tfound com.fasterxml.jackson.core#jackson-core;2.6.7 in central\n",
      "\tfound com.fasterxml.jackson.dataformat#jackson-dataformat-cbor;2.6.7 in central\n",
      "\tfound joda-time#joda-time;2.8.1 in central\n",
      "\tfound com.amazonaws#jmespath-java;1.11.375 in central\n",
      "\tfound com.amazonaws#aws-java-sdk-macie;1.11.375 in central\n",
      "\tfound com.amazonaws#aws-java-sdk-eks;1.11.375 in central\n",
      "\tfound com.amazonaws#aws-java-sdk-mediatailor;1.11.375 in central\n",
      "\tfound com.amazonaws#aws-java-sdk-neptune;1.11.375 in central\n",
      "\tfound com.amazonaws#aws-java-sdk-pi;1.11.375 in central\n",
      "\tfound com.amazonaws#aws-java-sdk-iot1clickprojects;1.11.375 in central\n",
      "\tfound com.amazonaws#aws-java-sdk-iot1clickdevices;1.11.375 in central\n",
      "\tfound com.amazonaws#aws-java-sdk-iotanalytics;1.11.375 in central\n",
      "\tfound com.amazonaws#aws-java-sdk-acmpca;1.11.375 in central\n",
      "\tfound com.amazonaws#aws-java-sdk-secretsmanager;1.11.375 in central\n",
      "\tfound com.amazonaws#aws-java-sdk-fms;1.11.375 in central\n",
      "\tfound com.amazonaws#aws-java-sdk-connect;1.11.375 in central\n",
      "\tfound com.amazonaws#aws-java-sdk-transcribe;1.11.375 in central\n",
      "\tfound com.amazonaws#aws-java-sdk-autoscalingplans;1.11.375 in central\n",
      "\tfound com.amazonaws#aws-java-sdk-workmail;1.11.375 in central\n",
      "\tfound com.amazonaws#aws-java-sdk-servicediscovery;1.11.375 in central\n",
      "\tfound com.amazonaws#aws-java-sdk-cloud9;1.11.375 in central\n",
      "\tfound com.amazonaws#aws-java-sdk-serverlessapplicationrepository;1.11.375 in central\n",
      "\tfound com.amazonaws#aws-java-sdk-alexaforbusiness;1.11.375 in central\n",
      "\tfound com.amazonaws#aws-java-sdk-resourcegroups;1.11.375 in central\n",
      "\tfound com.amazonaws#aws-java-sdk-comprehend;1.11.375 in central\n",
      "\tfound com.amazonaws#aws-java-sdk-translate;1.11.375 in central\n",
      "\tfound com.amazonaws#aws-java-sdk-sagemaker;1.11.375 in central\n",
      "\tfound com.amazonaws#aws-java-sdk-iotjobsdataplane;1.11.375 in central\n",
      "\tfound com.amazonaws#aws-java-sdk-sagemakerruntime;1.11.375 in central\n",
      "\tfound com.amazonaws#aws-java-sdk-kinesisvideo;1.11.375 in central\n",
      "\tfound io.netty#netty-codec-http;4.1.17.Final in central\n",
      "\tfound io.netty#netty-codec;4.1.17.Final in central\n",
      "\tfound io.netty#netty-transport;4.1.17.Final in central\n",
      "\tfound io.netty#netty-buffer;4.1.17.Final in central\n",
      "\tfound io.netty#netty-common;4.1.17.Final in central\n",
      "\tfound io.netty#netty-resolver;4.1.17.Final in central\n",
      "\tfound io.netty#netty-handler;4.1.17.Final in central\n",
      "\tfound com.amazonaws#aws-java-sdk-appsync;1.11.375 in central\n",
      "\tfound com.amazonaws#aws-java-sdk-guardduty;1.11.375 in central\n",
      "\tfound com.amazonaws#aws-java-sdk-mq;1.11.375 in central\n",
      "\tfound com.amazonaws#aws-java-sdk-mediaconvert;1.11.375 in central\n",
      "\tfound com.amazonaws#aws-java-sdk-mediastore;1.11.375 in central\n",
      "\tfound com.amazonaws#aws-java-sdk-mediastoredata;1.11.375 in central\n",
      "\tfound com.amazonaws#aws-java-sdk-medialive;1.11.375 in central\n",
      "\tfound com.amazonaws#aws-java-sdk-mediapackage;1.11.375 in central\n",
      "\tfound com.amazonaws#aws-java-sdk-costexplorer;1.11.375 in central\n",
      "\tfound com.amazonaws#aws-java-sdk-pricing;1.11.375 in central\n",
      "\tfound com.amazonaws#aws-java-sdk-mobile;1.11.375 in central\n",
      "\tfound com.amazonaws#aws-java-sdk-cloudhsmv2;1.11.375 in central\n",
      "\tfound com.amazonaws#aws-java-sdk-glue;1.11.375 in central\n",
      "\tfound com.amazonaws#aws-java-sdk-migrationhub;1.11.375 in central\n",
      "\tfound com.amazonaws#aws-java-sdk-dax;1.11.375 in central\n",
      "\tfound com.amazonaws#aws-java-sdk-greengrass;1.11.375 in central\n",
      "\tfound com.amazonaws#aws-java-sdk-athena;1.11.375 in central\n",
      "\tfound com.amazonaws#aws-java-sdk-marketplaceentitlement;1.11.375 in central\n",
      "\tfound com.amazonaws#aws-java-sdk-codestar;1.11.375 in central\n",
      "\tfound com.amazonaws#aws-java-sdk-lexmodelbuilding;1.11.375 in central\n",
      "\tfound com.amazonaws#aws-java-sdk-resourcegroupstaggingapi;1.11.375 in central\n",
      "\tfound com.amazonaws#aws-java-sdk-pinpoint;1.11.375 in central\n",
      "\tfound com.amazonaws#aws-java-sdk-xray;1.11.375 in central\n",
      "\tfound com.amazonaws#aws-java-sdk-opsworkscm;1.11.375 in central\n",
      "\tfound com.amazonaws#aws-java-sdk-support;1.11.375 in central\n",
      "\tfound com.amazonaws#aws-java-sdk-simpledb;1.11.375 in central\n",
      "\tfound com.amazonaws#aws-java-sdk-servicecatalog;1.11.375 in central\n",
      "\tfound com.amazonaws#aws-java-sdk-servermigration;1.11.375 in central\n",
      "\tfound com.amazonaws#aws-java-sdk-simpleworkflow;1.11.375 in central\n",
      "\tfound com.amazonaws#aws-java-sdk-storagegateway;1.11.375 in central\n",
      "\tfound com.amazonaws#aws-java-sdk-route53;1.11.375 in central\n",
      "\tfound com.amazonaws#aws-java-sdk-s3;1.11.375 in central\n",
      "\tfound com.amazonaws#aws-java-sdk-kms;1.11.375 in central\n",
      "\tfound com.amazonaws#aws-java-sdk-importexport;1.11.375 in central\n",
      "\tfound com.amazonaws#aws-java-sdk-sts;1.11.375 in central\n",
      "\tfound com.amazonaws#aws-java-sdk-sqs;1.11.375 in central\n",
      "\tfound com.amazonaws#aws-java-sdk-rds;1.11.375 in central\n",
      "\tfound com.amazonaws#aws-java-sdk-redshift;1.11.375 in central\n",
      "\tfound com.amazonaws#aws-java-sdk-elasticbeanstalk;1.11.375 in central\n",
      "\tfound com.amazonaws#aws-java-sdk-glacier;1.11.375 in central\n",
      "\tfound com.amazonaws#aws-java-sdk-sns;1.11.375 in central\n",
      "\tfound com.amazonaws#aws-java-sdk-iam;1.11.375 in central\n",
      "\tfound com.amazonaws#aws-java-sdk-datapipeline;1.11.375 in central\n",
      "\tfound com.amazonaws#aws-java-sdk-elasticloadbalancing;1.11.375 in central\n",
      "\tfound com.amazonaws#aws-java-sdk-elasticloadbalancingv2;1.11.375 in central\n",
      "\tfound com.amazonaws#aws-java-sdk-emr;1.11.375 in central\n",
      "\tfound com.amazonaws#aws-java-sdk-elasticache;1.11.375 in central\n",
      "\tfound com.amazonaws#aws-java-sdk-elastictranscoder;1.11.375 in central\n",
      "\tfound com.amazonaws#aws-java-sdk-ec2;1.11.375 in central\n",
      "\tfound com.amazonaws#aws-java-sdk-dynamodb;1.11.375 in central\n",
      "\tfound com.amazonaws#aws-java-sdk-budgets;1.11.375 in central\n",
      "\tfound com.amazonaws#aws-java-sdk-cloudtrail;1.11.375 in central\n",
      "\tfound com.amazonaws#aws-java-sdk-cloudwatch;1.11.375 in central\n",
      "\tfound com.amazonaws#aws-java-sdk-logs;1.11.375 in central\n",
      "\tfound com.amazonaws#aws-java-sdk-events;1.11.375 in central\n",
      "\tfound com.amazonaws#aws-java-sdk-cognitoidentity;1.11.375 in central\n",
      "\tfound com.amazonaws#aws-java-sdk-cognitosync;1.11.375 in central\n",
      "\tfound com.amazonaws#aws-java-sdk-directconnect;1.11.375 in central\n",
      "\tfound com.amazonaws#aws-java-sdk-cloudformation;1.11.375 in central\n",
      "\tfound com.amazonaws#aws-java-sdk-cloudfront;1.11.375 in central\n",
      "\tfound com.amazonaws#aws-java-sdk-clouddirectory;1.11.375 in central\n",
      "\tfound com.amazonaws#aws-java-sdk-kinesis;1.11.375 in central\n",
      "\tfound com.amazonaws#aws-java-sdk-opsworks;1.11.375 in central\n",
      "\tfound com.amazonaws#aws-java-sdk-ses;1.11.375 in central\n",
      "\tfound com.amazonaws#aws-java-sdk-autoscaling;1.11.375 in central\n",
      "\tfound com.amazonaws#aws-java-sdk-cloudsearch;1.11.375 in central\n",
      "\tfound com.amazonaws#aws-java-sdk-cloudwatchmetrics;1.11.375 in central\n",
      "\tfound com.amazonaws#aws-java-sdk-codedeploy;1.11.375 in central\n",
      "\tfound com.amazonaws#aws-java-sdk-codepipeline;1.11.375 in central\n",
      "\tfound com.amazonaws#aws-java-sdk-config;1.11.375 in central\n",
      "\tfound com.amazonaws#aws-java-sdk-lambda;1.11.375 in central\n",
      "\tfound com.amazonaws#aws-java-sdk-ecs;1.11.375 in central\n",
      "\tfound com.amazonaws#aws-java-sdk-ecr;1.11.375 in central\n",
      "\tfound com.amazonaws#aws-java-sdk-cloudhsm;1.11.375 in central\n",
      "\tfound com.amazonaws#aws-java-sdk-ssm;1.11.375 in central\n",
      "\tfound com.amazonaws#aws-java-sdk-workspaces;1.11.375 in central\n",
      "\tfound com.amazonaws#aws-java-sdk-machinelearning;1.11.375 in central\n",
      "\tfound com.amazonaws#aws-java-sdk-directory;1.11.375 in central\n",
      "\tfound com.amazonaws#aws-java-sdk-efs;1.11.375 in central\n",
      "\tfound com.amazonaws#aws-java-sdk-codecommit;1.11.375 in central\n",
      "\tfound com.amazonaws#aws-java-sdk-devicefarm;1.11.375 in central\n",
      "\tfound com.amazonaws#aws-java-sdk-elasticsearch;1.11.375 in central\n",
      "\tfound com.amazonaws#aws-java-sdk-waf;1.11.375 in central\n",
      "\tfound com.amazonaws#aws-java-sdk-marketplacecommerceanalytics;1.11.375 in central\n",
      "\tfound com.amazonaws#aws-java-sdk-inspector;1.11.375 in central\n",
      "\tfound com.amazonaws#aws-java-sdk-iot;1.11.375 in central\n",
      "\tfound com.amazonaws#aws-java-sdk-api-gateway;1.11.375 in central\n",
      "\tfound com.amazonaws#aws-java-sdk-acm;1.11.375 in central\n",
      "\tfound com.amazonaws#aws-java-sdk-gamelift;1.11.375 in central\n",
      "\tfound com.amazonaws#aws-java-sdk-dms;1.11.375 in central\n",
      "\tfound com.amazonaws#aws-java-sdk-marketplacemeteringservice;1.11.375 in central\n",
      "\tfound com.amazonaws#aws-java-sdk-cognitoidp;1.11.375 in central\n",
      "\tfound com.amazonaws#aws-java-sdk-discovery;1.11.375 in central\n",
      "\tfound com.amazonaws#aws-java-sdk-applicationautoscaling;1.11.375 in central\n",
      "\tfound com.amazonaws#aws-java-sdk-snowball;1.11.375 in central\n",
      "\tfound com.amazonaws#aws-java-sdk-rekognition;1.11.375 in central\n",
      "\tfound com.amazonaws#aws-java-sdk-polly;1.11.375 in central\n",
      "\tfound com.amazonaws#aws-java-sdk-lightsail;1.11.375 in central\n",
      "\tfound com.amazonaws#aws-java-sdk-stepfunctions;1.11.375 in central\n",
      "\tfound com.amazonaws#aws-java-sdk-health;1.11.375 in central\n",
      "\tfound com.amazonaws#aws-java-sdk-costandusagereport;1.11.375 in central\n",
      "\tfound com.amazonaws#aws-java-sdk-codebuild;1.11.375 in central\n",
      "\tfound com.amazonaws#aws-java-sdk-appstream;1.11.375 in central\n",
      "\tfound com.amazonaws#aws-java-sdk-shield;1.11.375 in central\n",
      "\tfound com.amazonaws#aws-java-sdk-batch;1.11.375 in central\n",
      "\tfound com.amazonaws#aws-java-sdk-lex;1.11.375 in central\n",
      "\tfound com.amazonaws#aws-java-sdk-mechanicalturkrequester;1.11.375 in central\n",
      "\tfound com.amazonaws#aws-java-sdk-organizations;1.11.375 in central\n",
      "\tfound com.amazonaws#aws-java-sdk-workdocs;1.11.375 in central\n",
      "\tfound com.amazonaws#aws-java-sdk-models;1.11.375 in central\n",
      "\tfound com.amazonaws#aws-java-sdk-swf-libraries;1.11.22 in central\n",
      ":: resolution report :: resolve 5397ms :: artifacts dl 388ms\n",
      "\t:: modules in use:\n",
      "\tcom.amazonaws#aws-java-sdk;1.11.375 from central in [default]\n",
      "\tcom.amazonaws#aws-java-sdk-acm;1.11.375 from central in [default]\n",
      "\tcom.amazonaws#aws-java-sdk-acmpca;1.11.375 from central in [default]\n",
      "\tcom.amazonaws#aws-java-sdk-alexaforbusiness;1.11.375 from central in [default]\n",
      "\tcom.amazonaws#aws-java-sdk-api-gateway;1.11.375 from central in [default]\n",
      "\tcom.amazonaws#aws-java-sdk-applicationautoscaling;1.11.375 from central in [default]\n",
      "\tcom.amazonaws#aws-java-sdk-appstream;1.11.375 from central in [default]\n",
      "\tcom.amazonaws#aws-java-sdk-appsync;1.11.375 from central in [default]\n",
      "\tcom.amazonaws#aws-java-sdk-athena;1.11.375 from central in [default]\n",
      "\tcom.amazonaws#aws-java-sdk-autoscaling;1.11.375 from central in [default]\n",
      "\tcom.amazonaws#aws-java-sdk-autoscalingplans;1.11.375 from central in [default]\n",
      "\tcom.amazonaws#aws-java-sdk-batch;1.11.375 from central in [default]\n",
      "\tcom.amazonaws#aws-java-sdk-budgets;1.11.375 from central in [default]\n",
      "\tcom.amazonaws#aws-java-sdk-bundle;1.11.901 from central in [default]\n",
      "\tcom.amazonaws#aws-java-sdk-cloud9;1.11.375 from central in [default]\n",
      "\tcom.amazonaws#aws-java-sdk-clouddirectory;1.11.375 from central in [default]\n",
      "\tcom.amazonaws#aws-java-sdk-cloudformation;1.11.375 from central in [default]\n",
      "\tcom.amazonaws#aws-java-sdk-cloudfront;1.11.375 from central in [default]\n",
      "\tcom.amazonaws#aws-java-sdk-cloudhsm;1.11.375 from central in [default]\n",
      "\tcom.amazonaws#aws-java-sdk-cloudhsmv2;1.11.375 from central in [default]\n",
      "\tcom.amazonaws#aws-java-sdk-cloudsearch;1.11.375 from central in [default]\n",
      "\tcom.amazonaws#aws-java-sdk-cloudtrail;1.11.375 from central in [default]\n",
      "\tcom.amazonaws#aws-java-sdk-cloudwatch;1.11.375 from central in [default]\n",
      "\tcom.amazonaws#aws-java-sdk-cloudwatchmetrics;1.11.375 from central in [default]\n",
      "\tcom.amazonaws#aws-java-sdk-codebuild;1.11.375 from central in [default]\n",
      "\tcom.amazonaws#aws-java-sdk-codecommit;1.11.375 from central in [default]\n",
      "\tcom.amazonaws#aws-java-sdk-codedeploy;1.11.375 from central in [default]\n",
      "\tcom.amazonaws#aws-java-sdk-codepipeline;1.11.375 from central in [default]\n",
      "\tcom.amazonaws#aws-java-sdk-codestar;1.11.375 from central in [default]\n",
      "\tcom.amazonaws#aws-java-sdk-cognitoidentity;1.11.375 from central in [default]\n",
      "\tcom.amazonaws#aws-java-sdk-cognitoidp;1.11.375 from central in [default]\n",
      "\tcom.amazonaws#aws-java-sdk-cognitosync;1.11.375 from central in [default]\n",
      "\tcom.amazonaws#aws-java-sdk-comprehend;1.11.375 from central in [default]\n",
      "\tcom.amazonaws#aws-java-sdk-config;1.11.375 from central in [default]\n",
      "\tcom.amazonaws#aws-java-sdk-connect;1.11.375 from central in [default]\n",
      "\tcom.amazonaws#aws-java-sdk-core;1.11.375 from central in [default]\n",
      "\tcom.amazonaws#aws-java-sdk-costandusagereport;1.11.375 from central in [default]\n",
      "\tcom.amazonaws#aws-java-sdk-costexplorer;1.11.375 from central in [default]\n",
      "\tcom.amazonaws#aws-java-sdk-datapipeline;1.11.375 from central in [default]\n",
      "\tcom.amazonaws#aws-java-sdk-dax;1.11.375 from central in [default]\n",
      "\tcom.amazonaws#aws-java-sdk-devicefarm;1.11.375 from central in [default]\n",
      "\tcom.amazonaws#aws-java-sdk-directconnect;1.11.375 from central in [default]\n",
      "\tcom.amazonaws#aws-java-sdk-directory;1.11.375 from central in [default]\n",
      "\tcom.amazonaws#aws-java-sdk-discovery;1.11.375 from central in [default]\n",
      "\tcom.amazonaws#aws-java-sdk-dlm;1.11.375 from central in [default]\n",
      "\tcom.amazonaws#aws-java-sdk-dms;1.11.375 from central in [default]\n",
      "\tcom.amazonaws#aws-java-sdk-dynamodb;1.11.375 from central in [default]\n",
      "\tcom.amazonaws#aws-java-sdk-ec2;1.11.375 from central in [default]\n",
      "\tcom.amazonaws#aws-java-sdk-ecr;1.11.375 from central in [default]\n",
      "\tcom.amazonaws#aws-java-sdk-ecs;1.11.375 from central in [default]\n",
      "\tcom.amazonaws#aws-java-sdk-efs;1.11.375 from central in [default]\n",
      "\tcom.amazonaws#aws-java-sdk-eks;1.11.375 from central in [default]\n",
      "\tcom.amazonaws#aws-java-sdk-elasticache;1.11.375 from central in [default]\n",
      "\tcom.amazonaws#aws-java-sdk-elasticbeanstalk;1.11.375 from central in [default]\n",
      "\tcom.amazonaws#aws-java-sdk-elasticloadbalancing;1.11.375 from central in [default]\n",
      "\tcom.amazonaws#aws-java-sdk-elasticloadbalancingv2;1.11.375 from central in [default]\n",
      "\tcom.amazonaws#aws-java-sdk-elasticsearch;1.11.375 from central in [default]\n",
      "\tcom.amazonaws#aws-java-sdk-elastictranscoder;1.11.375 from central in [default]\n",
      "\tcom.amazonaws#aws-java-sdk-emr;1.11.375 from central in [default]\n",
      "\tcom.amazonaws#aws-java-sdk-events;1.11.375 from central in [default]\n",
      "\tcom.amazonaws#aws-java-sdk-fms;1.11.375 from central in [default]\n",
      "\tcom.amazonaws#aws-java-sdk-gamelift;1.11.375 from central in [default]\n",
      "\tcom.amazonaws#aws-java-sdk-glacier;1.11.375 from central in [default]\n",
      "\tcom.amazonaws#aws-java-sdk-glue;1.11.375 from central in [default]\n",
      "\tcom.amazonaws#aws-java-sdk-greengrass;1.11.375 from central in [default]\n",
      "\tcom.amazonaws#aws-java-sdk-guardduty;1.11.375 from central in [default]\n",
      "\tcom.amazonaws#aws-java-sdk-health;1.11.375 from central in [default]\n",
      "\tcom.amazonaws#aws-java-sdk-iam;1.11.375 from central in [default]\n",
      "\tcom.amazonaws#aws-java-sdk-importexport;1.11.375 from central in [default]\n",
      "\tcom.amazonaws#aws-java-sdk-inspector;1.11.375 from central in [default]\n",
      "\tcom.amazonaws#aws-java-sdk-iot;1.11.375 from central in [default]\n",
      "\tcom.amazonaws#aws-java-sdk-iot1clickdevices;1.11.375 from central in [default]\n",
      "\tcom.amazonaws#aws-java-sdk-iot1clickprojects;1.11.375 from central in [default]\n",
      "\tcom.amazonaws#aws-java-sdk-iotanalytics;1.11.375 from central in [default]\n",
      "\tcom.amazonaws#aws-java-sdk-iotjobsdataplane;1.11.375 from central in [default]\n",
      "\tcom.amazonaws#aws-java-sdk-kinesis;1.11.375 from central in [default]\n",
      "\tcom.amazonaws#aws-java-sdk-kinesisvideo;1.11.375 from central in [default]\n",
      "\tcom.amazonaws#aws-java-sdk-kms;1.11.375 from central in [default]\n",
      "\tcom.amazonaws#aws-java-sdk-lambda;1.11.375 from central in [default]\n",
      "\tcom.amazonaws#aws-java-sdk-lex;1.11.375 from central in [default]\n",
      "\tcom.amazonaws#aws-java-sdk-lexmodelbuilding;1.11.375 from central in [default]\n",
      "\tcom.amazonaws#aws-java-sdk-lightsail;1.11.375 from central in [default]\n",
      "\tcom.amazonaws#aws-java-sdk-logs;1.11.375 from central in [default]\n",
      "\tcom.amazonaws#aws-java-sdk-machinelearning;1.11.375 from central in [default]\n",
      "\tcom.amazonaws#aws-java-sdk-macie;1.11.375 from central in [default]\n",
      "\tcom.amazonaws#aws-java-sdk-marketplacecommerceanalytics;1.11.375 from central in [default]\n",
      "\tcom.amazonaws#aws-java-sdk-marketplaceentitlement;1.11.375 from central in [default]\n",
      "\tcom.amazonaws#aws-java-sdk-marketplacemeteringservice;1.11.375 from central in [default]\n",
      "\tcom.amazonaws#aws-java-sdk-mechanicalturkrequester;1.11.375 from central in [default]\n",
      "\tcom.amazonaws#aws-java-sdk-mediaconvert;1.11.375 from central in [default]\n",
      "\tcom.amazonaws#aws-java-sdk-medialive;1.11.375 from central in [default]\n",
      "\tcom.amazonaws#aws-java-sdk-mediapackage;1.11.375 from central in [default]\n",
      "\tcom.amazonaws#aws-java-sdk-mediastore;1.11.375 from central in [default]\n",
      "\tcom.amazonaws#aws-java-sdk-mediastoredata;1.11.375 from central in [default]\n",
      "\tcom.amazonaws#aws-java-sdk-mediatailor;1.11.375 from central in [default]\n",
      "\tcom.amazonaws#aws-java-sdk-migrationhub;1.11.375 from central in [default]\n",
      "\tcom.amazonaws#aws-java-sdk-mobile;1.11.375 from central in [default]\n",
      "\tcom.amazonaws#aws-java-sdk-models;1.11.375 from central in [default]\n",
      "\tcom.amazonaws#aws-java-sdk-mq;1.11.375 from central in [default]\n",
      "\tcom.amazonaws#aws-java-sdk-neptune;1.11.375 from central in [default]\n",
      "\tcom.amazonaws#aws-java-sdk-opsworks;1.11.375 from central in [default]\n",
      "\tcom.amazonaws#aws-java-sdk-opsworkscm;1.11.375 from central in [default]\n",
      "\tcom.amazonaws#aws-java-sdk-organizations;1.11.375 from central in [default]\n",
      "\tcom.amazonaws#aws-java-sdk-pi;1.11.375 from central in [default]\n",
      "\tcom.amazonaws#aws-java-sdk-pinpoint;1.11.375 from central in [default]\n",
      "\tcom.amazonaws#aws-java-sdk-polly;1.11.375 from central in [default]\n",
      "\tcom.amazonaws#aws-java-sdk-pricing;1.11.375 from central in [default]\n",
      "\tcom.amazonaws#aws-java-sdk-rds;1.11.375 from central in [default]\n",
      "\tcom.amazonaws#aws-java-sdk-redshift;1.11.375 from central in [default]\n",
      "\tcom.amazonaws#aws-java-sdk-rekognition;1.11.375 from central in [default]\n",
      "\tcom.amazonaws#aws-java-sdk-resourcegroups;1.11.375 from central in [default]\n",
      "\tcom.amazonaws#aws-java-sdk-resourcegroupstaggingapi;1.11.375 from central in [default]\n",
      "\tcom.amazonaws#aws-java-sdk-route53;1.11.375 from central in [default]\n",
      "\tcom.amazonaws#aws-java-sdk-s3;1.11.375 from central in [default]\n",
      "\tcom.amazonaws#aws-java-sdk-sagemaker;1.11.375 from central in [default]\n",
      "\tcom.amazonaws#aws-java-sdk-sagemakerruntime;1.11.375 from central in [default]\n",
      "\tcom.amazonaws#aws-java-sdk-secretsmanager;1.11.375 from central in [default]\n",
      "\tcom.amazonaws#aws-java-sdk-serverlessapplicationrepository;1.11.375 from central in [default]\n",
      "\tcom.amazonaws#aws-java-sdk-servermigration;1.11.375 from central in [default]\n",
      "\tcom.amazonaws#aws-java-sdk-servicecatalog;1.11.375 from central in [default]\n",
      "\tcom.amazonaws#aws-java-sdk-servicediscovery;1.11.375 from central in [default]\n",
      "\tcom.amazonaws#aws-java-sdk-ses;1.11.375 from central in [default]\n",
      "\tcom.amazonaws#aws-java-sdk-shield;1.11.375 from central in [default]\n",
      "\tcom.amazonaws#aws-java-sdk-simpledb;1.11.375 from central in [default]\n",
      "\tcom.amazonaws#aws-java-sdk-simpleworkflow;1.11.375 from central in [default]\n",
      "\tcom.amazonaws#aws-java-sdk-snowball;1.11.375 from central in [default]\n",
      "\tcom.amazonaws#aws-java-sdk-sns;1.11.375 from central in [default]\n",
      "\tcom.amazonaws#aws-java-sdk-sqs;1.11.375 from central in [default]\n",
      "\tcom.amazonaws#aws-java-sdk-ssm;1.11.375 from central in [default]\n",
      "\tcom.amazonaws#aws-java-sdk-stepfunctions;1.11.375 from central in [default]\n",
      "\tcom.amazonaws#aws-java-sdk-storagegateway;1.11.375 from central in [default]\n",
      "\tcom.amazonaws#aws-java-sdk-sts;1.11.375 from central in [default]\n",
      "\tcom.amazonaws#aws-java-sdk-support;1.11.375 from central in [default]\n",
      "\tcom.amazonaws#aws-java-sdk-swf-libraries;1.11.22 from central in [default]\n",
      "\tcom.amazonaws#aws-java-sdk-transcribe;1.11.375 from central in [default]\n",
      "\tcom.amazonaws#aws-java-sdk-translate;1.11.375 from central in [default]\n",
      "\tcom.amazonaws#aws-java-sdk-waf;1.11.375 from central in [default]\n",
      "\tcom.amazonaws#aws-java-sdk-workdocs;1.11.375 from central in [default]\n",
      "\tcom.amazonaws#aws-java-sdk-workmail;1.11.375 from central in [default]\n",
      "\tcom.amazonaws#aws-java-sdk-workspaces;1.11.375 from central in [default]\n",
      "\tcom.amazonaws#aws-java-sdk-xray;1.11.375 from central in [default]\n",
      "\tcom.amazonaws#jmespath-java;1.11.375 from central in [default]\n",
      "\tcom.fasterxml.jackson.core#jackson-annotations;2.6.0 from central in [default]\n",
      "\tcom.fasterxml.jackson.core#jackson-core;2.6.7 from central in [default]\n",
      "\tcom.fasterxml.jackson.core#jackson-databind;2.6.7.1 from central in [default]\n",
      "\tcom.fasterxml.jackson.dataformat#jackson-dataformat-cbor;2.6.7 from central in [default]\n",
      "\tcommons-codec#commons-codec;1.10 from central in [default]\n",
      "\tcommons-logging#commons-logging;1.1.3 from central in [default]\n",
      "\tio.delta#delta-core_2.12;2.0.0 from central in [default]\n",
      "\tio.delta#delta-storage;2.0.0 from central in [default]\n",
      "\tio.netty#netty-buffer;4.1.17.Final from central in [default]\n",
      "\tio.netty#netty-codec;4.1.17.Final from central in [default]\n",
      "\tio.netty#netty-codec-http;4.1.17.Final from central in [default]\n",
      "\tio.netty#netty-common;4.1.17.Final from central in [default]\n",
      "\tio.netty#netty-handler;4.1.17.Final from central in [default]\n",
      "\tio.netty#netty-resolver;4.1.17.Final from central in [default]\n",
      "\tio.netty#netty-transport;4.1.17.Final from central in [default]\n",
      "\tjoda-time#joda-time;2.8.1 from central in [default]\n",
      "\torg.antlr#antlr4-runtime;4.8 from central in [default]\n",
      "\torg.apache.hadoop#hadoop-aws;3.2.3 from central in [default]\n",
      "\torg.apache.httpcomponents#httpclient;4.5.5 from central in [default]\n",
      "\torg.apache.httpcomponents#httpcore;4.4.9 from central in [default]\n",
      "\torg.apache.spark#spark-avro_2.12;3.2.0 from central in [default]\n",
      "\torg.codehaus.jackson#jackson-core-asl;1.9.13 from central in [default]\n",
      "\torg.spark-project.spark#unused;1.0.0 from central in [default]\n",
      "\torg.tukaani#xz;1.8 from central in [default]\n",
      "\tsoftware.amazon.ion#ion-java;1.0.2 from central in [default]\n",
      "\t:: evicted modules:\n",
      "\tcommons-logging#commons-logging;1.2 by [commons-logging#commons-logging;1.1.3] in [default]\n",
      "\tcom.amazonaws#aws-java-sdk-simpleworkflow;1.11.22 by [com.amazonaws#aws-java-sdk-simpleworkflow;1.11.375] in [default]\n",
      "\t---------------------------------------------------------------------\n",
      "\t|                  |            modules            ||   artifacts   |\n",
      "\t|       conf       | number| search|dwnlded|evicted|| number|dwnlded|\n",
      "\t---------------------------------------------------------------------\n",
      "\t|      default     |  169  |   0   |   0   |   2   ||  167  |   0   |\n",
      "\t---------------------------------------------------------------------\n",
      ":: retrieving :: org.apache.spark#spark-submit-parent-43932c39-d5aa-42ee-b11d-87bcf271ec7d\n",
      "\tconfs: [default]\n",
      "\t0 artifacts copied, 167 already retrieved (0kB/49ms)\n",
      "23/05/14 17:19:33 WARN NativeCodeLoader: Unable to load native-hadoop library for your platform... using builtin-java classes where applicable\n",
      "Using Spark's default log4j profile: org/apache/spark/log4j-defaults.properties\n",
      "Setting default log level to \"WARN\".\n",
      "To adjust logging level use sc.setLogLevel(newLevel). For SparkR, use setLogLevel(newLevel).\n",
      "23/05/14 17:19:35 WARN Utils: Service 'SparkUI' could not bind on port 4040. Attempting port 4041.\n"
     ]
    }
   ],
   "source": [
    "spark = (\n",
    "    SparkSession.builder.config(\n",
    "        \"spark.jars.packages\",\n",
    "        \"io.delta:delta-core_2.12:2.0.0,\"\n",
    "        \"org.apache.spark:spark-avro_2.12:3.2.0,\"\n",
    "        \"org.apache.hadoop:hadoop-aws:3.2.3,\"\n",
    "        \"com.amazonaws:aws-java-sdk:1.11.375,\"\n",
    "        \"org.apache.spark:spark-tags_2.12:3.2.0,\"\n",
    "    )\n",
    "    .config(\"spark.sql.extensions\", \"io.delta.sql.DeltaSparkSessionExtension\")\n",
    "    .config(\n",
    "        \"spark.sql.catalog.spark_catalog\",\n",
    "        \"org.apache.spark.sql.delta.catalog.DeltaCatalog\",\n",
    "    )\n",
    "    .config(\"spark.sql.codegen.wholeStage\", \"false\")\n",
    "    .config(\n",
    "        \"spark.hadoop.fs.s3a.impl\", \"org.apache.hadoop.fs.s3a.S3AFileSystem\"\n",
    "    )\n",
    "    .config(\"spark.hadoop.fs.s3a.access.key\", MINIO_ACCESS_KEY)\n",
    "    .config(\"spark.hadoop.fs.s3a.secret.key\", MINIO_SECRET_KEY)\n",
    "    .config(\"spark.hadoop.fs.s3a.endpoint\", MINIO_SERVER_HOST)\n",
    "    .config(\"spark.hadoop.fs.s3a.path.style.access\", \"true\")\n",
    "    .config(\"spark.hadoop.fs.s3a.connection.ssl.enabled\", \"false\")\n",
    "    .config(\n",
    "        \"spark.hadoop.fs.s3a.aws.credentials.provider\",\n",
    "        \"org.apache.hadoop.fs.s3a.SimpleAWSCredentialsProvider\",\n",
    "    )\n",
    "    .config(\"spark.databricks.delta.optimize.repartition.enabled\", \"true\")\n",
    "    .getOrCreate()\n",
    ")"
   ]
  },
  {
   "cell_type": "code",
   "execution_count": 3,
   "metadata": {},
   "outputs": [
    {
     "name": "stderr",
     "output_type": "stream",
     "text": [
      "                                                                                \r"
     ]
    },
    {
     "name": "stdout",
     "output_type": "stream",
     "text": [
      "+---+\n",
      "| id|\n",
      "+---+\n",
      "|  0|\n",
      "|  1|\n",
      "|  2|\n",
      "|  3|\n",
      "|  4|\n",
      "+---+\n",
      "\n"
     ]
    }
   ],
   "source": [
    "df = spark.range(0, 5)\n",
    "df.show(5)"
   ]
  },
  {
   "cell_type": "code",
   "execution_count": 4,
   "metadata": {},
   "outputs": [
    {
     "name": "stderr",
     "output_type": "stream",
     "text": [
      "23/05/02 14:45:11 WARN MetricsConfig: Cannot locate configuration: tried hadoop-metrics2-s3a-file-system.properties,hadoop-metrics2.properties\n",
      "                                                                                \r"
     ]
    }
   ],
   "source": [
    "df.write.format(\"delta\").save(\"s3a://test/table\")"
   ]
  },
  {
   "cell_type": "code",
   "execution_count": 9,
   "metadata": {},
   "outputs": [
    {
     "name": "stdout",
     "output_type": "stream",
     "text": [
      "+-------+-------------------+------+--------+---------+--------------------+----+--------+---------+-----------+-----------------+-------------+--------------------+------------+--------------------+\n",
      "|version|          timestamp|userId|userName|operation| operationParameters| job|notebook|clusterId|readVersion|   isolationLevel|isBlindAppend|    operationMetrics|userMetadata|          engineInfo|\n",
      "+-------+-------------------+------+--------+---------+--------------------+----+--------+---------+-----------+-----------------+-------------+--------------------+------------+--------------------+\n",
      "|      1|2023-05-02 14:48:33|  null|    null| OPTIMIZE|{predicate -> [],...|null|    null|     null|          0|SnapshotIsolation|        false|{numRemovedFiles ...|        null|Apache-Spark/3.2....|\n",
      "|      0|2023-05-02 14:45:13|  null|    null|    WRITE|{mode -> ErrorIfE...|null|    null|     null|       null|     Serializable|         true|{numFiles -> 6, n...|        null|Apache-Spark/3.2....|\n",
      "+-------+-------------------+------+--------+---------+--------------------+----+--------+---------+-----------+-----------------+-------------+--------------------+------------+--------------------+\n",
      "\n"
     ]
    }
   ],
   "source": [
    "deltaTable = DeltaTable.forPath(spark, \"s3a://test/table\")\n",
    "\n",
    "fullHistoryDF = deltaTable.history()\n",
    "\n",
    "fullHistoryDF.show()"
   ]
  },
  {
   "cell_type": "code",
   "execution_count": 6,
   "metadata": {},
   "outputs": [
    {
     "name": "stderr",
     "output_type": "stream",
     "text": [
      "                                                                                \r"
     ]
    },
    {
     "data": {
      "text/plain": [
       "DataFrame[path: string, metrics: struct<numFilesAdded:bigint,numFilesRemoved:bigint,filesAdded:struct<min:bigint,max:bigint,avg:double,totalFiles:bigint,totalSize:bigint>,filesRemoved:struct<min:bigint,max:bigint,avg:double,totalFiles:bigint,totalSize:bigint>,partitionsOptimized:bigint,zOrderStats:struct<strategyName:string,inputCubeFiles:struct<num:bigint,size:bigint>,inputOtherFiles:struct<num:bigint,size:bigint>,inputNumCubes:bigint,mergedFiles:struct<num:bigint,size:bigint>,numOutputCubes:bigint,mergedNumCubes:bigint>,numBatches:bigint,totalConsideredFiles:bigint,totalFilesSkipped:bigint,preserveInsertionOrder:boolean,numFilesSkippedToReduceWriteAmplification:bigint,numBytesSkippedToReduceWriteAmplification:bigint,startTimeMs:bigint,endTimeMs:bigint>]"
      ]
     },
     "execution_count": 6,
     "metadata": {},
     "output_type": "execute_result"
    }
   ],
   "source": [
    "from delta.tables import DeltaTable\n",
    "\n",
    "delta_table = DeltaTable.forPath(spark, \"s3a://test/table\")\n",
    "\n",
    "delta_table.optimize().executeCompaction()"
   ]
  },
  {
   "cell_type": "code",
   "execution_count": 8,
   "metadata": {},
   "outputs": [
    {
     "name": "stderr",
     "output_type": "stream",
     "text": [
      "[Stage 31:============================>                           (25 + 8) / 50]\r"
     ]
    },
    {
     "name": "stdout",
     "output_type": "stream",
     "text": [
      "Deleted 6 files and directories in a total of 1 directories.\n"
     ]
    },
    {
     "name": "stderr",
     "output_type": "stream",
     "text": [
      "                                                                                \r"
     ]
    },
    {
     "data": {
      "text/plain": [
       "DataFrame[]"
      ]
     },
     "execution_count": 8,
     "metadata": {},
     "output_type": "execute_result"
    }
   ],
   "source": [
    "spark.conf.set(\"spark.databricks.delta.retentionDurationCheck.enabled\", \"false\")\n",
    "delta_table.vacuum(0)"
   ]
  },
  {
   "cell_type": "code",
   "execution_count": 10,
   "metadata": {},
   "outputs": [
    {
     "name": "stdout",
     "output_type": "stream",
     "text": [
      "+---+\n",
      "|id |\n",
      "+---+\n",
      "|2  |\n",
      "|0  |\n",
      "|4  |\n",
      "|3  |\n",
      "|1  |\n",
      "+---+\n",
      "\n"
     ]
    }
   ],
   "source": [
    "df = spark.read.format(\"delta\").load(\"s3a://test/table\")\n",
    "df.show(truncate=False)"
   ]
  },
  {
   "cell_type": "code",
   "execution_count": 12,
   "metadata": {},
   "outputs": [
    {
     "name": "stderr",
     "output_type": "stream",
     "text": [
      "                                                                                \r"
     ]
    }
   ],
   "source": [
    "df = spark.range(5, 10)\n",
    "df.write.format(\"delta\").mode(\"append\").save(\"s3a://test/table\")"
   ]
  },
  {
   "cell_type": "code",
   "execution_count": 13,
   "metadata": {},
   "outputs": [
    {
     "name": "stderr",
     "output_type": "stream",
     "text": [
      "                                                                                \r"
     ]
    }
   ],
   "source": [
    "df = spark.range(10, 15)\n",
    "df.write.format(\"delta\").mode(\"append\").save(\"s3a://test/table\")"
   ]
  },
  {
   "cell_type": "code",
   "execution_count": 30,
   "metadata": {},
   "outputs": [
    {
     "name": "stdout",
     "output_type": "stream",
     "text": [
      "+-------+-------------------+------+--------+---------+--------------------+----+--------+---------+-----------+-----------------+-------------+--------------------+------------+--------------------+\n",
      "|version|          timestamp|userId|userName|operation| operationParameters| job|notebook|clusterId|readVersion|   isolationLevel|isBlindAppend|    operationMetrics|userMetadata|          engineInfo|\n",
      "+-------+-------------------+------+--------+---------+--------------------+----+--------+---------+-----------+-----------------+-------------+--------------------+------------+--------------------+\n",
      "|      6|2023-05-02 15:30:48|  null|    null|    WRITE|{mode -> Append, ...|null|    null|     null|          5|     Serializable|         true|{numFiles -> 8, n...|        null|Apache-Spark/3.2....|\n",
      "|      5|2023-05-02 15:30:05|  null|    null|    WRITE|{mode -> Append, ...|null|    null|     null|          4|     Serializable|         true|{numFiles -> 6, n...|        null|Apache-Spark/3.2....|\n",
      "|      4|2023-05-02 15:23:09|  null|    null| OPTIMIZE|{predicate -> [],...|null|    null|     null|          3|SnapshotIsolation|        false|{numRemovedFiles ...|        null|Apache-Spark/3.2....|\n",
      "|      3|2023-05-02 15:21:07|  null|    null|    WRITE|{mode -> Append, ...|null|    null|     null|          2|     Serializable|         true|{numFiles -> 6, n...|        null|Apache-Spark/3.2....|\n",
      "|      2|2023-05-02 15:20:44|  null|    null|    WRITE|{mode -> Append, ...|null|    null|     null|          1|     Serializable|         true|{numFiles -> 6, n...|        null|Apache-Spark/3.2....|\n",
      "|      1|2023-05-02 14:48:33|  null|    null| OPTIMIZE|{predicate -> [],...|null|    null|     null|          0|SnapshotIsolation|        false|{numRemovedFiles ...|        null|Apache-Spark/3.2....|\n",
      "|      0|2023-05-02 14:45:13|  null|    null|    WRITE|{mode -> ErrorIfE...|null|    null|     null|       null|     Serializable|         true|{numFiles -> 6, n...|        null|Apache-Spark/3.2....|\n",
      "+-------+-------------------+------+--------+---------+--------------------+----+--------+---------+-----------+-----------------+-------------+--------------------+------------+--------------------+\n",
      "\n"
     ]
    }
   ],
   "source": [
    "deltaTable = DeltaTable.forPath(spark, \"s3a://test/table\")\n",
    "\n",
    "fullHistoryDF = deltaTable.history()\n",
    "\n",
    "fullHistoryDF.show()"
   ]
  },
  {
   "cell_type": "code",
   "execution_count": 15,
   "metadata": {},
   "outputs": [
    {
     "name": "stderr",
     "output_type": "stream",
     "text": [
      "                                                                                \r"
     ]
    },
    {
     "data": {
      "text/plain": [
       "DataFrame[path: string, metrics: struct<numFilesAdded:bigint,numFilesRemoved:bigint,filesAdded:struct<min:bigint,max:bigint,avg:double,totalFiles:bigint,totalSize:bigint>,filesRemoved:struct<min:bigint,max:bigint,avg:double,totalFiles:bigint,totalSize:bigint>,partitionsOptimized:bigint,zOrderStats:struct<strategyName:string,inputCubeFiles:struct<num:bigint,size:bigint>,inputOtherFiles:struct<num:bigint,size:bigint>,inputNumCubes:bigint,mergedFiles:struct<num:bigint,size:bigint>,numOutputCubes:bigint,mergedNumCubes:bigint>,numBatches:bigint,totalConsideredFiles:bigint,totalFilesSkipped:bigint,preserveInsertionOrder:boolean,numFilesSkippedToReduceWriteAmplification:bigint,numBytesSkippedToReduceWriteAmplification:bigint,startTimeMs:bigint,endTimeMs:bigint>]"
      ]
     },
     "execution_count": 15,
     "metadata": {},
     "output_type": "execute_result"
    }
   ],
   "source": [
    "from delta.tables import DeltaTable\n",
    "\n",
    "delta_table = DeltaTable.forPath(spark, \"s3a://test/table\")\n",
    "\n",
    "delta_table.optimize().executeCompaction()"
   ]
  },
  {
   "cell_type": "code",
   "execution_count": 16,
   "metadata": {},
   "outputs": [
    {
     "name": "stderr",
     "output_type": "stream",
     "text": [
      "                                                                                \r"
     ]
    },
    {
     "name": "stdout",
     "output_type": "stream",
     "text": [
      "Deleted 13 files and directories in a total of 1 directories.\n"
     ]
    },
    {
     "data": {
      "text/plain": [
       "DataFrame[]"
      ]
     },
     "execution_count": 16,
     "metadata": {},
     "output_type": "execute_result"
    }
   ],
   "source": [
    "spark.conf.set(\"spark.databricks.delta.retentionDurationCheck.enabled\", \"false\")\n",
    "delta_table.vacuum(0)"
   ]
  },
  {
   "cell_type": "code",
   "execution_count": 18,
   "metadata": {},
   "outputs": [
    {
     "name": "stdout",
     "output_type": "stream",
     "text": [
      "+---+\n",
      "|id |\n",
      "+---+\n",
      "|2  |\n",
      "|0  |\n",
      "|4  |\n",
      "|3  |\n",
      "|1  |\n",
      "|5  |\n",
      "|7  |\n",
      "|13 |\n",
      "|9  |\n",
      "|8  |\n",
      "|14 |\n",
      "|11 |\n",
      "|6  |\n",
      "|12 |\n",
      "|10 |\n",
      "+---+\n",
      "\n"
     ]
    }
   ],
   "source": [
    "df = spark.read.format(\"delta\").load(\"s3a://test/table\")\n",
    "df.show(truncate=False)"
   ]
  },
  {
   "cell_type": "code",
   "execution_count": 5,
   "metadata": {},
   "outputs": [
    {
     "name": "stdout",
     "output_type": "stream",
     "text": [
      "+---+-------------+----+-------+-----------+---------+----------+---------+----+-----+---+\n",
      "|op |ts_ms        |id  |user_id|payment    |status_id|created_at|before_id|year|month|day|\n",
      "+---+-------------+----+-------+-----------+---------+----------+---------+----+-----+---+\n",
      "|r  |1683042218095|134 |3407   |instalment |3        |1681541690|134      |2023|4    |15 |\n",
      "|r  |1683042218104|581 |7688   |cash       |1        |1681549670|581      |2023|4    |15 |\n",
      "|r  |1683042218105|611 |9557   |credit_card|4        |1681549670|611      |2023|4    |15 |\n",
      "|r  |1683042218105|672 |3749   |credit_card|3        |1681549670|672      |2023|4    |15 |\n",
      "|r  |1683042218113|1145|3495   |instalment |3        |1681549670|1145     |2023|4    |15 |\n",
      "|r  |1683042218115|1226|3738   |credit_card|1        |1681549670|1226     |2023|4    |15 |\n",
      "|r  |1683042218116|1319|2782   |cash       |3        |1681549670|1319     |2023|4    |15 |\n",
      "|r  |1683042218119|1522|7449   |instalment |1        |1681549670|1522     |2023|4    |15 |\n",
      "|r  |1683042218121|1637|6086   |credit_card|1        |1681576457|1637     |2023|4    |15 |\n",
      "|r  |1683042218122|1697|3315   |cash       |2        |1681576457|1697     |2023|4    |15 |\n",
      "|r  |1683042218106|730 |3702   |credit_card|4        |1681549670|730      |2023|4    |15 |\n",
      "|r  |1683042218108|831 |1830   |credit_card|3        |1681549670|831      |2023|4    |15 |\n",
      "|r  |1683042218108|887 |7026   |instalment |4        |1681549670|887      |2023|4    |15 |\n",
      "|r  |1683042218109|939 |3502   |cash       |1        |1681549670|939      |2023|4    |15 |\n",
      "|r  |1683042218110|979 |874    |instalment |3        |1681549670|979      |2023|4    |15 |\n",
      "|r  |1683042218111|1044|9103   |cash       |4        |1681549670|1044     |2023|4    |15 |\n",
      "|r  |1683042218115|1232|9969   |cash       |1        |1681549670|1232     |2023|4    |15 |\n",
      "|r  |1683042218118|1446|4756   |cash       |3        |1681549670|1446     |2023|4    |15 |\n",
      "|r  |1683042218121|1641|1755   |credit_card|1        |1681576457|1641     |2023|4    |15 |\n",
      "|r  |1683042218109|929 |1477   |credit_card|1        |1681549670|929      |2023|4    |15 |\n",
      "+---+-------------+----+-------+-----------+---------+----------+---------+----+-----+---+\n",
      "only showing top 20 rows\n",
      "\n"
     ]
    }
   ],
   "source": [
    "\n",
    "df_res = (\n",
    "    spark.read\n",
    "    .format(\"delta\")\n",
    "    .option(\"versionAsOf\", 5)\n",
    "    .load(\"s3a://test/table\")\n",
    ")\n",
    "df_res.show(truncate=False)"
   ]
  },
  {
   "cell_type": "code",
   "execution_count": 29,
   "metadata": {},
   "outputs": [
    {
     "name": "stderr",
     "output_type": "stream",
     "text": [
      "                                                                                \r"
     ]
    }
   ],
   "source": [
    "df = spark.range(10, 20)\n",
    "df.write.format(\"delta\").mode(\"append\").save(\"s3a://test/table\")"
   ]
  },
  {
   "cell_type": "code",
   "execution_count": 36,
   "metadata": {},
   "outputs": [
    {
     "name": "stdout",
     "output_type": "stream",
     "text": [
      "+-----+-----------+\n",
      "|value|  partition|\n",
      "+-----+-----------+\n",
      "|    1|partition 1|\n",
      "|    2|partition 2|\n",
      "|    3|partition 3|\n",
      "+-----+-----------+\n",
      "\n"
     ]
    },
    {
     "name": "stderr",
     "output_type": "stream",
     "text": [
      "                                                                                \r"
     ]
    }
   ],
   "source": [
    "data = [\n",
    "    (\"1\", \"partition 1\"),\n",
    "    (\"2\", \"partition 2\"),\n",
    "    (\"3\", \"partition 3\")\n",
    "]\n",
    "\n",
    "schema = StructType([\n",
    "    StructField(\"value\", StringType(), True),\n",
    "    StructField(\"partition\", StringType(), True),\n",
    "])\n",
    "\n",
    "df = spark.createDataFrame(data, schema)\n",
    "df.show()\n",
    "df.write.mode(\"append\").format(\"delta\").partitionBy(\"partition\").save(\"s3a://test/table1\")"
   ]
  },
  {
   "cell_type": "code",
   "execution_count": 39,
   "metadata": {},
   "outputs": [
    {
     "name": "stdout",
     "output_type": "stream",
     "text": [
      "+-----+-----------+\n",
      "|value|  partition|\n",
      "+-----+-----------+\n",
      "|   10|partition 1|\n",
      "|   11|partition 2|\n",
      "|   12|partition 3|\n",
      "+-----+-----------+\n",
      "\n"
     ]
    },
    {
     "name": "stderr",
     "output_type": "stream",
     "text": [
      "                                                                                \r"
     ]
    }
   ],
   "source": [
    "data = [\n",
    "    (\"10\", \"partition 1\"),\n",
    "    (\"11\", \"partition 2\"),\n",
    "    (\"12\", \"partition 3\")\n",
    "]\n",
    "\n",
    "schema = StructType([\n",
    "    StructField(\"value\", StringType(), True),\n",
    "    StructField(\"partition\", StringType(), True),\n",
    "])\n",
    "\n",
    "df = spark.createDataFrame(data, schema)\n",
    "df.show()\n",
    "df.write.mode(\"append\").format(\"delta\").partitionBy(\"partition\").save(\"s3a://test/table1\")"
   ]
  },
  {
   "cell_type": "code",
   "execution_count": 3,
   "metadata": {},
   "outputs": [
    {
     "name": "stderr",
     "output_type": "stream",
     "text": [
      "23/05/02 23:43:11 WARN MetricsConfig: Cannot locate configuration: tried hadoop-metrics2-s3a-file-system.properties,hadoop-metrics2.properties\n",
      "23/05/02 23:43:24 WARN MemoryManager: Total allocation exceeds 95.00% (906,992,014 bytes) of heap memory\n",
      "Scaling row group sizes to 96.54% for 7 writers\n",
      "23/05/02 23:43:24 WARN MemoryManager: Total allocation exceeds 95.00% (906,992,014 bytes) of heap memory\n",
      "Scaling row group sizes to 84.47% for 8 writers\n",
      "23/05/02 23:43:25 WARN MemoryManager: Total allocation exceeds 95.00% (906,992,014 bytes) of heap memory\n",
      "Scaling row group sizes to 96.54% for 7 writers\n",
      "                                                                                \r"
     ]
    },
    {
     "data": {
      "text/plain": [
       "DataFrame[path: string, metrics: struct<numFilesAdded:bigint,numFilesRemoved:bigint,filesAdded:struct<min:bigint,max:bigint,avg:double,totalFiles:bigint,totalSize:bigint>,filesRemoved:struct<min:bigint,max:bigint,avg:double,totalFiles:bigint,totalSize:bigint>,partitionsOptimized:bigint,zOrderStats:struct<strategyName:string,inputCubeFiles:struct<num:bigint,size:bigint>,inputOtherFiles:struct<num:bigint,size:bigint>,inputNumCubes:bigint,mergedFiles:struct<num:bigint,size:bigint>,numOutputCubes:bigint,mergedNumCubes:bigint>,numBatches:bigint,totalConsideredFiles:bigint,totalFilesSkipped:bigint,preserveInsertionOrder:boolean,numFilesSkippedToReduceWriteAmplification:bigint,numBytesSkippedToReduceWriteAmplification:bigint,startTimeMs:bigint,endTimeMs:bigint>]"
      ]
     },
     "execution_count": 3,
     "metadata": {},
     "output_type": "execute_result"
    }
   ],
   "source": [
    "from delta.tables import DeltaTable\n",
    "\n",
    "delta_table = DeltaTable.forPath(spark, \"s3a://datalake/sliver/cdc.myshop.orders\")\n",
    "\n",
    "delta_table.optimize().executeCompaction()"
   ]
  },
  {
   "cell_type": "code",
   "execution_count": 4,
   "metadata": {},
   "outputs": [
    {
     "name": "stderr",
     "output_type": "stream",
     "text": [
      "                                                                                \r"
     ]
    },
    {
     "name": "stdout",
     "output_type": "stream",
     "text": [
      "Deleted 543 files and directories in a total of 324 directories.\n"
     ]
    },
    {
     "data": {
      "text/plain": [
       "DataFrame[]"
      ]
     },
     "execution_count": 4,
     "metadata": {},
     "output_type": "execute_result"
    }
   ],
   "source": [
    "spark.conf.set(\"spark.databricks.delta.retentionDurationCheck.enabled\", \"false\")\n",
    "delta_table.vacuum(0)"
   ]
  },
  {
   "cell_type": "code",
   "execution_count": 44,
   "metadata": {},
   "outputs": [
    {
     "data": {
      "text/plain": [
       "<delta.tables.DeltaTable at 0x7ff9889f5e70>"
      ]
     },
     "execution_count": 44,
     "metadata": {},
     "output_type": "execute_result"
    }
   ],
   "source": [
    "delta_table"
   ]
  },
  {
   "cell_type": "code",
   "execution_count": 47,
   "metadata": {},
   "outputs": [
    {
     "name": "stdout",
     "output_type": "stream",
     "text": [
      "+-----+-----------+\n",
      "|value|  partition|\n",
      "+-----+-----------+\n",
      "|   10|partition 1|\n",
      "|   11|partition 2|\n",
      "|   12|partition 3|\n",
      "+-----+-----------+\n",
      "\n"
     ]
    }
   ],
   "source": [
    "df.show()"
   ]
  },
  {
   "cell_type": "code",
   "execution_count": 49,
   "metadata": {},
   "outputs": [
    {
     "name": "stdout",
     "output_type": "stream",
     "text": [
      "+-----+-----------+\n",
      "|value|partition  |\n",
      "+-----+-----------+\n",
      "|12   |partition 3|\n",
      "|9    |partition 3|\n",
      "|6    |partition 3|\n",
      "|3    |partition 3|\n",
      "|11   |partition 2|\n",
      "|8    |partition 2|\n",
      "|2    |partition 2|\n",
      "|5    |partition 2|\n",
      "|10   |partition 1|\n",
      "|4    |partition 1|\n",
      "|7    |partition 1|\n",
      "|1    |partition 1|\n",
      "+-----+-----------+\n",
      "\n"
     ]
    }
   ],
   "source": [
    "\n",
    "df_res = (\n",
    "    spark.read\n",
    "    .format(\"delta\")\n",
    "    .load(\"s3a://test/table1\")\n",
    ")\n",
    "df_res.show(truncate=False)"
   ]
  },
  {
   "cell_type": "code",
   "execution_count": 50,
   "metadata": {},
   "outputs": [
    {
     "name": "stdout",
     "output_type": "stream",
     "text": [
      "root\n",
      " |-- value: string (nullable = true)\n",
      " |-- partition: string (nullable = true)\n",
      "\n"
     ]
    }
   ],
   "source": [
    "df.printSchema()"
   ]
  },
  {
   "cell_type": "code",
   "execution_count": 51,
   "metadata": {},
   "outputs": [
    {
     "ename": "IllegalArgumentException",
     "evalue": "Z-Ordering column value does not exist in data schema.",
     "output_type": "error",
     "traceback": [
      "\u001b[0;31m---------------------------------------------------------------------------\u001b[0m",
      "\u001b[0;31mIllegalArgumentException\u001b[0m                  Traceback (most recent call last)",
      "Cell \u001b[0;32mIn[51], line 1\u001b[0m\n\u001b[0;32m----> 1\u001b[0m deltaTable\u001b[39m.\u001b[39;49moptimize()\u001b[39m.\u001b[39;49mexecuteZOrderBy(\u001b[39m\"\u001b[39;49m\u001b[39mvalue\u001b[39;49m\u001b[39m\"\u001b[39;49m)\n",
      "File \u001b[0;32m~/Desktop/realtime-analytic/venv/lib/python3.10/site-packages/delta/tables.py:1230\u001b[0m, in \u001b[0;36mDeltaOptimizeBuilder.executeZOrderBy\u001b[0;34m(self, *cols)\u001b[0m\n\u001b[1;32m   1226\u001b[0m         errorMsg \u001b[39m+\u001b[39m\u001b[39m=\u001b[39m \u001b[39m\"\u001b[39m\u001b[39mFound \u001b[39m\u001b[39m%s\u001b[39;00m\u001b[39m with type \u001b[39m\u001b[39m%s\u001b[39;00m\u001b[39m\"\u001b[39m \u001b[39m%\u001b[39m ((\u001b[39mstr\u001b[39m(c)), \u001b[39mstr\u001b[39m(\u001b[39mtype\u001b[39m(c)))\n\u001b[1;32m   1227\u001b[0m         \u001b[39mraise\u001b[39;00m \u001b[39mTypeError\u001b[39;00m(errorMsg)\n\u001b[1;32m   1229\u001b[0m \u001b[39mreturn\u001b[39;00m DataFrame(\n\u001b[0;32m-> 1230\u001b[0m     \u001b[39mself\u001b[39;49m\u001b[39m.\u001b[39;49m_jbuilder\u001b[39m.\u001b[39;49mexecuteZOrderBy(_to_seq(\n\u001b[1;32m   1231\u001b[0m         \u001b[39mself\u001b[39;49m\u001b[39m.\u001b[39;49m_spark\u001b[39m.\u001b[39;49m_sc,  \u001b[39m# type: ignore[attr-defined]\u001b[39;49;00m\n\u001b[1;32m   1232\u001b[0m         cast(Iterable[Union[Column, \u001b[39mstr\u001b[39;49m]], cols)\n\u001b[1;32m   1233\u001b[0m     )),\n\u001b[1;32m   1234\u001b[0m     \u001b[39mgetattr\u001b[39m(\u001b[39mself\u001b[39m\u001b[39m.\u001b[39m_spark, \u001b[39m\"\u001b[39m\u001b[39m_wrapped\u001b[39m\u001b[39m\"\u001b[39m, \u001b[39mself\u001b[39m\u001b[39m.\u001b[39m_spark)  \u001b[39m# type: ignore[attr-defined]\u001b[39;00m\n\u001b[1;32m   1235\u001b[0m )\n",
      "File \u001b[0;32m~/Desktop/realtime-analytic/venv/lib/python3.10/site-packages/py4j/java_gateway.py:1309\u001b[0m, in \u001b[0;36mJavaMember.__call__\u001b[0;34m(self, *args)\u001b[0m\n\u001b[1;32m   1303\u001b[0m command \u001b[39m=\u001b[39m proto\u001b[39m.\u001b[39mCALL_COMMAND_NAME \u001b[39m+\u001b[39m\\\n\u001b[1;32m   1304\u001b[0m     \u001b[39mself\u001b[39m\u001b[39m.\u001b[39mcommand_header \u001b[39m+\u001b[39m\\\n\u001b[1;32m   1305\u001b[0m     args_command \u001b[39m+\u001b[39m\\\n\u001b[1;32m   1306\u001b[0m     proto\u001b[39m.\u001b[39mEND_COMMAND_PART\n\u001b[1;32m   1308\u001b[0m answer \u001b[39m=\u001b[39m \u001b[39mself\u001b[39m\u001b[39m.\u001b[39mgateway_client\u001b[39m.\u001b[39msend_command(command)\n\u001b[0;32m-> 1309\u001b[0m return_value \u001b[39m=\u001b[39m get_return_value(\n\u001b[1;32m   1310\u001b[0m     answer, \u001b[39mself\u001b[39;49m\u001b[39m.\u001b[39;49mgateway_client, \u001b[39mself\u001b[39;49m\u001b[39m.\u001b[39;49mtarget_id, \u001b[39mself\u001b[39;49m\u001b[39m.\u001b[39;49mname)\n\u001b[1;32m   1312\u001b[0m \u001b[39mfor\u001b[39;00m temp_arg \u001b[39min\u001b[39;00m temp_args:\n\u001b[1;32m   1313\u001b[0m     temp_arg\u001b[39m.\u001b[39m_detach()\n",
      "File \u001b[0;32m~/Desktop/realtime-analytic/venv/lib/python3.10/site-packages/pyspark/sql/utils.py:117\u001b[0m, in \u001b[0;36mcapture_sql_exception.<locals>.deco\u001b[0;34m(*a, **kw)\u001b[0m\n\u001b[1;32m    113\u001b[0m converted \u001b[39m=\u001b[39m convert_exception(e\u001b[39m.\u001b[39mjava_exception)\n\u001b[1;32m    114\u001b[0m \u001b[39mif\u001b[39;00m \u001b[39mnot\u001b[39;00m \u001b[39misinstance\u001b[39m(converted, UnknownException):\n\u001b[1;32m    115\u001b[0m     \u001b[39m# Hide where the exception came from that shows a non-Pythonic\u001b[39;00m\n\u001b[1;32m    116\u001b[0m     \u001b[39m# JVM exception message.\u001b[39;00m\n\u001b[0;32m--> 117\u001b[0m     \u001b[39mraise\u001b[39;00m converted \u001b[39mfrom\u001b[39;00m \u001b[39mNone\u001b[39;00m\n\u001b[1;32m    118\u001b[0m \u001b[39melse\u001b[39;00m:\n\u001b[1;32m    119\u001b[0m     \u001b[39mraise\u001b[39;00m\n",
      "\u001b[0;31mIllegalArgumentException\u001b[0m: Z-Ordering column value does not exist in data schema."
     ]
    }
   ],
   "source": [
    "deltaTable.optimize().executeZOrderBy(\"value\")"
   ]
  }
 ],
 "metadata": {
  "kernelspec": {
   "display_name": "venv",
   "language": "python",
   "name": "python3"
  },
  "language_info": {
   "codemirror_mode": {
    "name": "ipython",
    "version": 3
   },
   "file_extension": ".py",
   "mimetype": "text/x-python",
   "name": "python",
   "nbconvert_exporter": "python",
   "pygments_lexer": "ipython3",
   "version": "3.10.6"
  },
  "orig_nbformat": 4
 },
 "nbformat": 4,
 "nbformat_minor": 2
}
